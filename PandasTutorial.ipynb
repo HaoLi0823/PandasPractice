{
 "cells": [
  {
   "cell_type": "code",
   "execution_count": 1,
   "metadata": {
    "collapsed": true
   },
   "outputs": [],
   "source": [
    "import numpy as np\n",
    "import pandas as pd\n",
    "import matplotlib.pyplot as plt\n",
    "%matplotlib inline"
   ]
  },
  {
   "cell_type": "markdown",
   "metadata": {
    "collapsed": true
   },
   "source": [
    "# Pandas Foundations"
   ]
  },
  {
   "cell_type": "markdown",
   "metadata": {},
   "source": [
    "DataFrame is just like a spreadsheet, and Series is the single columns of data inside the DataFrame, each column(Series) holds precisely one data type. \n",
    "\n",
    "Both DataFrame and Series has Index component, one key reason that makes them so special and handy to use.\n",
    "\n",
    "DataFrame and Series consist of three components Index,columns and data(values).\n",
    "\n",
    "When you need to select one specific data element or subset of data, use index label and column name to find the target. "
   ]
  },
  {
   "cell_type": "raw",
   "metadata": {},
   "source": [
    "The first step (suppose we already have csv,excel or sql files at hand, which in reality, is seldom the case) is to read the data into the dataframe.\n",
    "We have a very powerful and versatile function read_csv (read the official document for more details,mutiple parameters making this function very flexible)."
   ]
  },
  {
   "cell_type": "code",
   "execution_count": 6,
   "metadata": {
    "collapsed": true
   },
   "outputs": [],
   "source": [
    "data=pd.read_csv('BikeRiding2012.csv',index_col='Date',parse_dates=['Date'],dayfirst=True)"
   ]
  },
  {
   "cell_type": "code",
   "execution_count": 7,
   "metadata": {},
   "outputs": [
    {
     "data": {
      "text/html": [
       "<div>\n",
       "<style>\n",
       "    .dataframe thead tr:only-child th {\n",
       "        text-align: right;\n",
       "    }\n",
       "\n",
       "    .dataframe thead th {\n",
       "        text-align: left;\n",
       "    }\n",
       "\n",
       "    .dataframe tbody tr th {\n",
       "        vertical-align: top;\n",
       "    }\n",
       "</style>\n",
       "<table border=\"1\" class=\"dataframe\">\n",
       "  <thead>\n",
       "    <tr style=\"text-align: right;\">\n",
       "      <th></th>\n",
       "      <th>Unnamed: 1</th>\n",
       "      <th>Rachel / Papineau</th>\n",
       "      <th>Berri1</th>\n",
       "      <th>Maisonneuve_2</th>\n",
       "      <th>Maisonneuve_1</th>\n",
       "      <th>Brébeuf</th>\n",
       "      <th>Parc</th>\n",
       "      <th>PierDup</th>\n",
       "      <th>CSC (Côte Sainte-Catherine)</th>\n",
       "      <th>Pont_Jacques_Cartier</th>\n",
       "    </tr>\n",
       "    <tr>\n",
       "      <th>Date</th>\n",
       "      <th></th>\n",
       "      <th></th>\n",
       "      <th></th>\n",
       "      <th></th>\n",
       "      <th></th>\n",
       "      <th></th>\n",
       "      <th></th>\n",
       "      <th></th>\n",
       "      <th></th>\n",
       "      <th></th>\n",
       "    </tr>\n",
       "  </thead>\n",
       "  <tbody>\n",
       "    <tr>\n",
       "      <th>2012-01-01</th>\n",
       "      <td>00:00</td>\n",
       "      <td>16</td>\n",
       "      <td>35</td>\n",
       "      <td>51</td>\n",
       "      <td>38</td>\n",
       "      <td>5.0</td>\n",
       "      <td>26</td>\n",
       "      <td>10</td>\n",
       "      <td>0</td>\n",
       "      <td>27.0</td>\n",
       "    </tr>\n",
       "    <tr>\n",
       "      <th>2012-01-02</th>\n",
       "      <td>00:00</td>\n",
       "      <td>43</td>\n",
       "      <td>83</td>\n",
       "      <td>153</td>\n",
       "      <td>68</td>\n",
       "      <td>11.0</td>\n",
       "      <td>53</td>\n",
       "      <td>6</td>\n",
       "      <td>1</td>\n",
       "      <td>21.0</td>\n",
       "    </tr>\n",
       "    <tr>\n",
       "      <th>2012-01-03</th>\n",
       "      <td>00:00</td>\n",
       "      <td>58</td>\n",
       "      <td>135</td>\n",
       "      <td>248</td>\n",
       "      <td>104</td>\n",
       "      <td>2.0</td>\n",
       "      <td>89</td>\n",
       "      <td>3</td>\n",
       "      <td>2</td>\n",
       "      <td>15.0</td>\n",
       "    </tr>\n",
       "    <tr>\n",
       "      <th>2012-01-04</th>\n",
       "      <td>00:00</td>\n",
       "      <td>61</td>\n",
       "      <td>144</td>\n",
       "      <td>318</td>\n",
       "      <td>116</td>\n",
       "      <td>2.0</td>\n",
       "      <td>111</td>\n",
       "      <td>8</td>\n",
       "      <td>1</td>\n",
       "      <td>19.0</td>\n",
       "    </tr>\n",
       "    <tr>\n",
       "      <th>2012-01-05</th>\n",
       "      <td>00:00</td>\n",
       "      <td>95</td>\n",
       "      <td>197</td>\n",
       "      <td>330</td>\n",
       "      <td>124</td>\n",
       "      <td>6.0</td>\n",
       "      <td>97</td>\n",
       "      <td>13</td>\n",
       "      <td>2</td>\n",
       "      <td>16.0</td>\n",
       "    </tr>\n",
       "  </tbody>\n",
       "</table>\n",
       "</div>"
      ],
      "text/plain": [
       "           Unnamed: 1  Rachel / Papineau  Berri1  Maisonneuve_2  \\\n",
       "Date                                                              \n",
       "2012-01-01      00:00                 16      35             51   \n",
       "2012-01-02      00:00                 43      83            153   \n",
       "2012-01-03      00:00                 58     135            248   \n",
       "2012-01-04      00:00                 61     144            318   \n",
       "2012-01-05      00:00                 95     197            330   \n",
       "\n",
       "            Maisonneuve_1  Brébeuf  Parc  PierDup  \\\n",
       "Date                                                \n",
       "2012-01-01             38      5.0    26       10   \n",
       "2012-01-02             68     11.0    53        6   \n",
       "2012-01-03            104      2.0    89        3   \n",
       "2012-01-04            116      2.0   111        8   \n",
       "2012-01-05            124      6.0    97       13   \n",
       "\n",
       "            CSC (Côte Sainte-Catherine)  Pont_Jacques_Cartier  \n",
       "Date                                                           \n",
       "2012-01-01                            0                  27.0  \n",
       "2012-01-02                            1                  21.0  \n",
       "2012-01-03                            2                  15.0  \n",
       "2012-01-04                            1                  19.0  \n",
       "2012-01-05                            2                  16.0  "
      ]
     },
     "execution_count": 7,
     "metadata": {},
     "output_type": "execute_result"
    }
   ],
   "source": [
    "data.head()  # read the first few rows,to get a feel of the data."
   ]
  },
  {
   "cell_type": "code",
   "execution_count": 8,
   "metadata": {},
   "outputs": [
    {
     "data": {
      "text/plain": [
       "DatetimeIndex(['2012-01-01', '2012-01-02', '2012-01-03', '2012-01-04',\n",
       "               '2012-01-05', '2012-01-06', '2012-01-07', '2012-01-08',\n",
       "               '2012-01-09', '2012-01-10',\n",
       "               ...\n",
       "               '2012-12-22', '2012-12-23', '2012-12-24', '2012-12-25',\n",
       "               '2012-12-26', '2012-12-27', '2012-12-28', '2012-12-29',\n",
       "               '2012-12-30', '2012-12-31'],\n",
       "              dtype='datetime64[ns]', name='Date', length=366, freq=None)"
      ]
     },
     "execution_count": 8,
     "metadata": {},
     "output_type": "execute_result"
    }
   ],
   "source": [
    "data.index #in this exmple, the idexes are dates."
   ]
  },
  {
   "cell_type": "code",
   "execution_count": 9,
   "metadata": {},
   "outputs": [
    {
     "data": {
      "text/plain": [
       "Index(['Unnamed: 1', 'Rachel / Papineau', 'Berri1', 'Maisonneuve_2',\n",
       "       'Maisonneuve_1', 'Brébeuf', 'Parc', 'PierDup',\n",
       "       'CSC (Côte Sainte-Catherine)', 'Pont_Jacques_Cartier'],\n",
       "      dtype='object')"
      ]
     },
     "execution_count": 9,
     "metadata": {},
     "output_type": "execute_result"
    }
   ],
   "source": [
    "data.columns "
   ]
  },
  {
   "cell_type": "code",
   "execution_count": 12,
   "metadata": {},
   "outputs": [
    {
     "data": {
      "text/plain": [
       "array([['00:00', 16, 35, ..., 10, 0, 27.0],\n",
       "       ['00:00', 43, 83, ..., 6, 1, 21.0],\n",
       "       ['00:00', 58, 135, ..., 3, 2, 15.0],\n",
       "       ..., \n",
       "       ['00:00', 0, 27, ..., 0, 0, nan],\n",
       "       ['00:00', 0, 5, ..., 0, 0, nan],\n",
       "       ['00:00', 0, 4, ..., 0, 0, nan]], dtype=object)"
      ]
     },
     "execution_count": 12,
     "metadata": {},
     "output_type": "execute_result"
    }
   ],
   "source": [
    "data.values  # numpy arrays"
   ]
  },
  {
   "cell_type": "raw",
   "metadata": {},
   "source": [
    "Data can be continuous ( height, weight....) and categorical( gender, color....)\n",
    "pandas sponsor Boolean,Integer,Float,Complex,Object,Datetime,Timedelta,Categorical.\n",
    "(the object data type is a catch-all)"
   ]
  },
  {
   "cell_type": "code",
   "execution_count": 14,
   "metadata": {},
   "outputs": [
    {
     "data": {
      "text/plain": [
       "Unnamed: 1                      object\n",
       "Rachel / Papineau                int64\n",
       "Berri1                           int64\n",
       "Maisonneuve_2                    int64\n",
       "Maisonneuve_1                    int64\n",
       "Brébeuf                        float64\n",
       "Parc                             int64\n",
       "PierDup                          int64\n",
       "CSC (Côte Sainte-Catherine)      int64\n",
       "Pont_Jacques_Cartier           float64\n",
       "dtype: object"
      ]
     },
     "execution_count": 14,
     "metadata": {},
     "output_type": "execute_result"
    }
   ],
   "source": [
    "data.dtypes"
   ]
  },
  {
   "cell_type": "code",
   "execution_count": 15,
   "metadata": {},
   "outputs": [
    {
     "data": {
      "text/plain": [
       "float64    2\n",
       "int64      7\n",
       "object     1\n",
       "dtype: int64"
      ]
     },
     "execution_count": 15,
     "metadata": {},
     "output_type": "execute_result"
    }
   ],
   "source": [
    "data.get_dtype_counts()"
   ]
  },
  {
   "cell_type": "raw",
   "metadata": {},
   "source": [
    "A Series a single column of DataFrame. A series is composed of an index and the values.\n",
    "One common operation is to select one column(Series) from the dataframe, to do this, pass  the string to the indexing operator of the dataframe."
   ]
  },
  {
   "cell_type": "code",
   "execution_count": 16,
   "metadata": {
    "collapsed": true
   },
   "outputs": [],
   "source": [
    "ParcData=data['Parc']  # return a series. alternative: ParcData=data.Parc"
   ]
  },
  {
   "cell_type": "code",
   "execution_count": 17,
   "metadata": {},
   "outputs": [
    {
     "data": {
      "text/plain": [
       "Date\n",
       "2012-01-01     26\n",
       "2012-01-02     53\n",
       "2012-01-03     89\n",
       "2012-01-04    111\n",
       "2012-01-05     97\n",
       "Name: Parc, dtype: int64"
      ]
     },
     "execution_count": 17,
     "metadata": {},
     "output_type": "execute_result"
    }
   ],
   "source": [
    "ParcData.head()    # "
   ]
  },
  {
   "cell_type": "code",
   "execution_count": 18,
   "metadata": {},
   "outputs": [
    {
     "data": {
      "text/plain": [
       "pandas.core.series.Series"
      ]
     },
     "execution_count": 18,
     "metadata": {},
     "output_type": "execute_result"
    }
   ],
   "source": [
    "type(ParcData)"
   ]
  },
  {
   "cell_type": "raw",
   "metadata": {},
   "source": [
    "Note: the dot notation(ParcData=data.Parc) is not recommended to use in production, which is prone to error. (what if the column name is 'zip code')\n",
    "\n",
    "in case you want to convert a Series to data frame use to_frame() function."
   ]
  },
  {
   "cell_type": "raw",
   "metadata": {},
   "source": [
    "Series has many powerful functions and share a lot in common with DataFrames."
   ]
  },
  {
   "cell_type": "code",
   "execution_count": 21,
   "metadata": {
    "collapsed": true
   },
   "outputs": [],
   "source": [
    "objSeries=data['Unnamed: 1']   # to emphasize the diff, this is not a good name btw.\n",
    "intSeries=data['Berri1']"
   ]
  },
  {
   "cell_type": "code",
   "execution_count": 22,
   "metadata": {},
   "outputs": [
    {
     "data": {
      "text/plain": [
       "00:00    366\n",
       "Name: Unnamed: 1, dtype: int64"
      ]
     },
     "execution_count": 22,
     "metadata": {},
     "output_type": "execute_result"
    }
   ],
   "source": [
    "objSeries.value_counts() #this column only has one value..."
   ]
  },
  {
   "cell_type": "code",
   "execution_count": 25,
   "metadata": {},
   "outputs": [
    {
     "data": {
      "text/plain": [
       "count     366.000000\n",
       "mean     2678.234973\n",
       "std      2149.301945\n",
       "min         4.000000\n",
       "25%       433.500000\n",
       "50%      2326.000000\n",
       "75%      4642.750000\n",
       "max      7104.000000\n",
       "Name: Berri1, dtype: float64"
      ]
     },
     "execution_count": 25,
     "metadata": {},
     "output_type": "execute_result"
    }
   ],
   "source": [
    "intSeries.describe()"
   ]
  },
  {
   "cell_type": "raw",
   "metadata": {},
   "source": [
    "For object data types, the most commonly used function is value_counts()\n",
    "For numerical data types, a good choice might be describe(), or you can use min(),max(),mean(),median(),std(),quantile() and sum() to do some basic statistic calculations."
   ]
  },
  {
   "cell_type": "code",
   "execution_count": 26,
   "metadata": {},
   "outputs": [
    {
     "data": {
      "text/plain": [
       "366"
      ]
     },
     "execution_count": 26,
     "metadata": {},
     "output_type": "execute_result"
    }
   ],
   "source": [
    "objSeries.count()"
   ]
  },
  {
   "cell_type": "code",
   "execution_count": 28,
   "metadata": {},
   "outputs": [
    {
     "data": {
      "text/plain": [
       "366"
      ]
     },
     "execution_count": 28,
     "metadata": {},
     "output_type": "execute_result"
    }
   ],
   "source": [
    "objSeries.size"
   ]
  },
  {
   "cell_type": "raw",
   "metadata": {},
   "source": [
    "Note, to count the number of elements of the Series, you can use size and shape parameter or the len func. but as you can see there is also a count() func, this one is counting all the non-missing values."
   ]
  },
  {
   "cell_type": "code",
   "execution_count": 31,
   "metadata": {},
   "outputs": [
    {
     "data": {
      "text/plain": [
       "Date\n",
       "2012-01-01    False\n",
       "2012-01-02    False\n",
       "2012-01-03    False\n",
       "2012-01-04    False\n",
       "2012-01-05    False\n",
       "2012-01-06    False\n",
       "2012-01-07    False\n",
       "2012-01-08    False\n",
       "2012-01-09    False\n",
       "2012-01-10    False\n",
       "2012-01-11    False\n",
       "2012-01-12    False\n",
       "2012-01-13    False\n",
       "2012-01-14    False\n",
       "2012-01-15    False\n",
       "2012-01-16    False\n",
       "2012-01-17    False\n",
       "2012-01-18    False\n",
       "2012-01-19    False\n",
       "2012-01-20    False\n",
       "2012-01-21    False\n",
       "2012-01-22    False\n",
       "2012-01-23    False\n",
       "2012-01-24    False\n",
       "2012-01-25    False\n",
       "2012-01-26    False\n",
       "2012-01-27    False\n",
       "2012-01-28    False\n",
       "2012-01-29    False\n",
       "2012-01-30    False\n",
       "              ...  \n",
       "2012-12-02    False\n",
       "2012-12-03    False\n",
       "2012-12-04    False\n",
       "2012-12-05    False\n",
       "2012-12-06    False\n",
       "2012-12-07    False\n",
       "2012-12-08    False\n",
       "2012-12-09    False\n",
       "2012-12-10    False\n",
       "2012-12-11    False\n",
       "2012-12-12    False\n",
       "2012-12-13    False\n",
       "2012-12-14    False\n",
       "2012-12-15    False\n",
       "2012-12-16    False\n",
       "2012-12-17    False\n",
       "2012-12-18    False\n",
       "2012-12-19    False\n",
       "2012-12-20    False\n",
       "2012-12-21    False\n",
       "2012-12-22    False\n",
       "2012-12-23    False\n",
       "2012-12-24    False\n",
       "2012-12-25    False\n",
       "2012-12-26    False\n",
       "2012-12-27    False\n",
       "2012-12-28    False\n",
       "2012-12-29    False\n",
       "2012-12-30    False\n",
       "2012-12-31    False\n",
       "Name: Berri1, Length: 366, dtype: bool"
      ]
     },
     "execution_count": 31,
     "metadata": {},
     "output_type": "execute_result"
    }
   ],
   "source": [
    "intSeries.isnull()"
   ]
  },
  {
   "cell_type": "code",
   "execution_count": 32,
   "metadata": {},
   "outputs": [
    {
     "data": {
      "text/plain": [
       "0"
      ]
     },
     "execution_count": 32,
     "metadata": {},
     "output_type": "execute_result"
    }
   ],
   "source": [
    "intSeries.isnull().sum() # get the number of null values in the series, in this case, no null values."
   ]
  },
  {
   "cell_type": "code",
   "execution_count": 33,
   "metadata": {},
   "outputs": [
    {
     "data": {
      "text/plain": [
       "366"
      ]
     },
     "execution_count": 33,
     "metadata": {},
     "output_type": "execute_result"
    }
   ],
   "source": [
    "intSeries.notnull().sum() "
   ]
  },
  {
   "cell_type": "raw",
   "metadata": {},
   "source": [
    "In the upper example, intSeries.notnull().sum() ,we actually used what is called Method chaining, because as the first func returns a new series, we can call another func on this new series, and it goes on and on, but sometimes this should be avoided to better readability."
   ]
  },
  {
   "cell_type": "raw",
   "metadata": {},
   "source": [
    "Next, we will do manipulation with DataFrames, as you will see, it share a lot funcs with Series."
   ]
  },
  {
   "cell_type": "code",
   "execution_count": 39,
   "metadata": {
    "collapsed": true
   },
   "outputs": [],
   "source": [
    "example=pd.DataFrame({'Id':[1001,1002,1003,1004,1005,1006],\n",
    "                    'Name':['Chris','Laura','Jack','Ellen','John','Max'],\n",
    "                     'Age':[12,34,22,np.nan,23,20],\n",
    "                     'Gender':['M','F','M','F','M','M'],\n",
    "                     'GPA':[3.0,3.3,2.9,3.5,3.1,3.8]})\n",
    "# here we manually built a dataframe to better explain the concepts."
   ]
  },
  {
   "cell_type": "code",
   "execution_count": 41,
   "metadata": {},
   "outputs": [
    {
     "data": {
      "text/html": [
       "<div>\n",
       "<style>\n",
       "    .dataframe thead tr:only-child th {\n",
       "        text-align: right;\n",
       "    }\n",
       "\n",
       "    .dataframe thead th {\n",
       "        text-align: left;\n",
       "    }\n",
       "\n",
       "    .dataframe tbody tr th {\n",
       "        vertical-align: top;\n",
       "    }\n",
       "</style>\n",
       "<table border=\"1\" class=\"dataframe\">\n",
       "  <thead>\n",
       "    <tr style=\"text-align: right;\">\n",
       "      <th></th>\n",
       "      <th>Age</th>\n",
       "      <th>GPA</th>\n",
       "      <th>Gender</th>\n",
       "      <th>Id</th>\n",
       "      <th>Name</th>\n",
       "    </tr>\n",
       "  </thead>\n",
       "  <tbody>\n",
       "    <tr>\n",
       "      <th>0</th>\n",
       "      <td>12.0</td>\n",
       "      <td>3.0</td>\n",
       "      <td>M</td>\n",
       "      <td>1001</td>\n",
       "      <td>Chris</td>\n",
       "    </tr>\n",
       "    <tr>\n",
       "      <th>1</th>\n",
       "      <td>34.0</td>\n",
       "      <td>3.3</td>\n",
       "      <td>F</td>\n",
       "      <td>1002</td>\n",
       "      <td>Laura</td>\n",
       "    </tr>\n",
       "    <tr>\n",
       "      <th>2</th>\n",
       "      <td>22.0</td>\n",
       "      <td>2.9</td>\n",
       "      <td>M</td>\n",
       "      <td>1003</td>\n",
       "      <td>Jack</td>\n",
       "    </tr>\n",
       "    <tr>\n",
       "      <th>3</th>\n",
       "      <td>NaN</td>\n",
       "      <td>3.5</td>\n",
       "      <td>F</td>\n",
       "      <td>1004</td>\n",
       "      <td>Ellen</td>\n",
       "    </tr>\n",
       "    <tr>\n",
       "      <th>4</th>\n",
       "      <td>23.0</td>\n",
       "      <td>3.1</td>\n",
       "      <td>M</td>\n",
       "      <td>1005</td>\n",
       "      <td>John</td>\n",
       "    </tr>\n",
       "    <tr>\n",
       "      <th>5</th>\n",
       "      <td>20.0</td>\n",
       "      <td>3.8</td>\n",
       "      <td>M</td>\n",
       "      <td>1006</td>\n",
       "      <td>Max</td>\n",
       "    </tr>\n",
       "  </tbody>\n",
       "</table>\n",
       "</div>"
      ],
      "text/plain": [
       "    Age  GPA Gender    Id   Name\n",
       "0  12.0  3.0      M  1001  Chris\n",
       "1  34.0  3.3      F  1002  Laura\n",
       "2  22.0  2.9      M  1003   Jack\n",
       "3   NaN  3.5      F  1004  Ellen\n",
       "4  23.0  3.1      M  1005   John\n",
       "5  20.0  3.8      M  1006    Max"
      ]
     },
     "execution_count": 41,
     "metadata": {},
     "output_type": "execute_result"
    }
   ],
   "source": [
    "example"
   ]
  },
  {
   "cell_type": "code",
   "execution_count": 42,
   "metadata": {
    "collapsed": true
   },
   "outputs": [],
   "source": [
    "example.set_index('Id',inplace=True)"
   ]
  },
  {
   "cell_type": "code",
   "execution_count": 43,
   "metadata": {},
   "outputs": [
    {
     "data": {
      "text/html": [
       "<div>\n",
       "<style>\n",
       "    .dataframe thead tr:only-child th {\n",
       "        text-align: right;\n",
       "    }\n",
       "\n",
       "    .dataframe thead th {\n",
       "        text-align: left;\n",
       "    }\n",
       "\n",
       "    .dataframe tbody tr th {\n",
       "        vertical-align: top;\n",
       "    }\n",
       "</style>\n",
       "<table border=\"1\" class=\"dataframe\">\n",
       "  <thead>\n",
       "    <tr style=\"text-align: right;\">\n",
       "      <th></th>\n",
       "      <th>Age</th>\n",
       "      <th>GPA</th>\n",
       "      <th>Gender</th>\n",
       "      <th>Name</th>\n",
       "    </tr>\n",
       "    <tr>\n",
       "      <th>Id</th>\n",
       "      <th></th>\n",
       "      <th></th>\n",
       "      <th></th>\n",
       "      <th></th>\n",
       "    </tr>\n",
       "  </thead>\n",
       "  <tbody>\n",
       "    <tr>\n",
       "      <th>1001</th>\n",
       "      <td>12.0</td>\n",
       "      <td>3.0</td>\n",
       "      <td>M</td>\n",
       "      <td>Chris</td>\n",
       "    </tr>\n",
       "    <tr>\n",
       "      <th>1002</th>\n",
       "      <td>34.0</td>\n",
       "      <td>3.3</td>\n",
       "      <td>F</td>\n",
       "      <td>Laura</td>\n",
       "    </tr>\n",
       "    <tr>\n",
       "      <th>1003</th>\n",
       "      <td>22.0</td>\n",
       "      <td>2.9</td>\n",
       "      <td>M</td>\n",
       "      <td>Jack</td>\n",
       "    </tr>\n",
       "    <tr>\n",
       "      <th>1004</th>\n",
       "      <td>NaN</td>\n",
       "      <td>3.5</td>\n",
       "      <td>F</td>\n",
       "      <td>Ellen</td>\n",
       "    </tr>\n",
       "    <tr>\n",
       "      <th>1005</th>\n",
       "      <td>23.0</td>\n",
       "      <td>3.1</td>\n",
       "      <td>M</td>\n",
       "      <td>John</td>\n",
       "    </tr>\n",
       "  </tbody>\n",
       "</table>\n",
       "</div>"
      ],
      "text/plain": [
       "       Age  GPA Gender   Name\n",
       "Id                           \n",
       "1001  12.0  3.0      M  Chris\n",
       "1002  34.0  3.3      F  Laura\n",
       "1003  22.0  2.9      M   Jack\n",
       "1004   NaN  3.5      F  Ellen\n",
       "1005  23.0  3.1      M   John"
      ]
     },
     "execution_count": 43,
     "metadata": {},
     "output_type": "execute_result"
    }
   ],
   "source": [
    "example.head()"
   ]
  },
  {
   "cell_type": "code",
   "execution_count": 44,
   "metadata": {},
   "outputs": [
    {
     "data": {
      "text/plain": [
       "1"
      ]
     },
     "execution_count": 44,
     "metadata": {},
     "output_type": "execute_result"
    }
   ],
   "source": [
    "example.isnull().sum().sum() # check if there is null value in this df, there is a null value"
   ]
  },
  {
   "cell_type": "code",
   "execution_count": 46,
   "metadata": {},
   "outputs": [
    {
     "data": {
      "text/plain": [
       "1"
      ]
     },
     "execution_count": 46,
     "metadata": {},
     "output_type": "execute_result"
    }
   ],
   "source": [
    "example['Age'].isnull().sum() "
   ]
  },
  {
   "cell_type": "code",
   "execution_count": 48,
   "metadata": {},
   "outputs": [
    {
     "data": {
      "text/plain": [
       "Id\n",
       "1001    12\n",
       "1002    34\n",
       "1003    22\n",
       "1004    22\n",
       "1005    23\n",
       "1006    20\n",
       "Name: Age, dtype: int32"
      ]
     },
     "execution_count": 48,
     "metadata": {},
     "output_type": "execute_result"
    }
   ],
   "source": [
    "example['Age'].fillna(example['Age'].mean()).astype(int)  # if you want it inplace add inplace=True in the fillna() func"
   ]
  },
  {
   "cell_type": "raw",
   "metadata": {},
   "source": [
    "Sometimes, the default index (0,1,2...n-1) is not very meaningful, if the data already contain column that acts as the identifier, we can set this column as the index use the set_index() func."
   ]
  },
  {
   "cell_type": "code",
   "execution_count": 50,
   "metadata": {
    "collapsed": true
   },
   "outputs": [],
   "source": [
    "columns_rename={'Id':'Student_id','Name':'Student_name','Age':'Student_age'}\n",
    "example=example.rename(columns=columns_rename)"
   ]
  },
  {
   "cell_type": "code",
   "execution_count": 51,
   "metadata": {},
   "outputs": [
    {
     "data": {
      "text/html": [
       "<div>\n",
       "<style>\n",
       "    .dataframe thead tr:only-child th {\n",
       "        text-align: right;\n",
       "    }\n",
       "\n",
       "    .dataframe thead th {\n",
       "        text-align: left;\n",
       "    }\n",
       "\n",
       "    .dataframe tbody tr th {\n",
       "        vertical-align: top;\n",
       "    }\n",
       "</style>\n",
       "<table border=\"1\" class=\"dataframe\">\n",
       "  <thead>\n",
       "    <tr style=\"text-align: right;\">\n",
       "      <th></th>\n",
       "      <th>Student_age</th>\n",
       "      <th>GPA</th>\n",
       "      <th>Gender</th>\n",
       "      <th>Student_name</th>\n",
       "    </tr>\n",
       "    <tr>\n",
       "      <th>Id</th>\n",
       "      <th></th>\n",
       "      <th></th>\n",
       "      <th></th>\n",
       "      <th></th>\n",
       "    </tr>\n",
       "  </thead>\n",
       "  <tbody>\n",
       "    <tr>\n",
       "      <th>1001</th>\n",
       "      <td>12.0</td>\n",
       "      <td>3.0</td>\n",
       "      <td>M</td>\n",
       "      <td>Chris</td>\n",
       "    </tr>\n",
       "    <tr>\n",
       "      <th>1002</th>\n",
       "      <td>34.0</td>\n",
       "      <td>3.3</td>\n",
       "      <td>F</td>\n",
       "      <td>Laura</td>\n",
       "    </tr>\n",
       "    <tr>\n",
       "      <th>1003</th>\n",
       "      <td>22.0</td>\n",
       "      <td>2.9</td>\n",
       "      <td>M</td>\n",
       "      <td>Jack</td>\n",
       "    </tr>\n",
       "    <tr>\n",
       "      <th>1004</th>\n",
       "      <td>NaN</td>\n",
       "      <td>3.5</td>\n",
       "      <td>F</td>\n",
       "      <td>Ellen</td>\n",
       "    </tr>\n",
       "    <tr>\n",
       "      <th>1005</th>\n",
       "      <td>23.0</td>\n",
       "      <td>3.1</td>\n",
       "      <td>M</td>\n",
       "      <td>John</td>\n",
       "    </tr>\n",
       "    <tr>\n",
       "      <th>1006</th>\n",
       "      <td>20.0</td>\n",
       "      <td>3.8</td>\n",
       "      <td>M</td>\n",
       "      <td>Max</td>\n",
       "    </tr>\n",
       "  </tbody>\n",
       "</table>\n",
       "</div>"
      ],
      "text/plain": [
       "      Student_age  GPA Gender Student_name\n",
       "Id                                        \n",
       "1001         12.0  3.0      M        Chris\n",
       "1002         34.0  3.3      F        Laura\n",
       "1003         22.0  2.9      M         Jack\n",
       "1004          NaN  3.5      F        Ellen\n",
       "1005         23.0  3.1      M         John\n",
       "1006         20.0  3.8      M          Max"
      ]
     },
     "execution_count": 51,
     "metadata": {},
     "output_type": "execute_result"
    }
   ],
   "source": [
    "example"
   ]
  },
  {
   "cell_type": "code",
   "execution_count": 52,
   "metadata": {},
   "outputs": [
    {
     "data": {
      "text/plain": [
       "Index(['Student_age', 'GPA', 'Gender', 'Student_name'], dtype='object')"
      ]
     },
     "execution_count": 52,
     "metadata": {},
     "output_type": "execute_result"
    }
   ],
   "source": [
    "example.columns"
   ]
  },
  {
   "cell_type": "code",
   "execution_count": 53,
   "metadata": {
    "collapsed": true
   },
   "outputs": [],
   "source": [
    "example.columns=['Age','GPA','Gender','Name'] # another way to set column names"
   ]
  },
  {
   "cell_type": "code",
   "execution_count": 54,
   "metadata": {},
   "outputs": [
    {
     "data": {
      "text/html": [
       "<div>\n",
       "<style>\n",
       "    .dataframe thead tr:only-child th {\n",
       "        text-align: right;\n",
       "    }\n",
       "\n",
       "    .dataframe thead th {\n",
       "        text-align: left;\n",
       "    }\n",
       "\n",
       "    .dataframe tbody tr th {\n",
       "        vertical-align: top;\n",
       "    }\n",
       "</style>\n",
       "<table border=\"1\" class=\"dataframe\">\n",
       "  <thead>\n",
       "    <tr style=\"text-align: right;\">\n",
       "      <th></th>\n",
       "      <th>Age</th>\n",
       "      <th>GPA</th>\n",
       "      <th>Gender</th>\n",
       "      <th>Name</th>\n",
       "    </tr>\n",
       "    <tr>\n",
       "      <th>Id</th>\n",
       "      <th></th>\n",
       "      <th></th>\n",
       "      <th></th>\n",
       "      <th></th>\n",
       "    </tr>\n",
       "  </thead>\n",
       "  <tbody>\n",
       "    <tr>\n",
       "      <th>1001</th>\n",
       "      <td>12.0</td>\n",
       "      <td>3.0</td>\n",
       "      <td>M</td>\n",
       "      <td>Chris</td>\n",
       "    </tr>\n",
       "    <tr>\n",
       "      <th>1002</th>\n",
       "      <td>34.0</td>\n",
       "      <td>3.3</td>\n",
       "      <td>F</td>\n",
       "      <td>Laura</td>\n",
       "    </tr>\n",
       "    <tr>\n",
       "      <th>1003</th>\n",
       "      <td>22.0</td>\n",
       "      <td>2.9</td>\n",
       "      <td>M</td>\n",
       "      <td>Jack</td>\n",
       "    </tr>\n",
       "    <tr>\n",
       "      <th>1004</th>\n",
       "      <td>NaN</td>\n",
       "      <td>3.5</td>\n",
       "      <td>F</td>\n",
       "      <td>Ellen</td>\n",
       "    </tr>\n",
       "    <tr>\n",
       "      <th>1005</th>\n",
       "      <td>23.0</td>\n",
       "      <td>3.1</td>\n",
       "      <td>M</td>\n",
       "      <td>John</td>\n",
       "    </tr>\n",
       "    <tr>\n",
       "      <th>1006</th>\n",
       "      <td>20.0</td>\n",
       "      <td>3.8</td>\n",
       "      <td>M</td>\n",
       "      <td>Max</td>\n",
       "    </tr>\n",
       "  </tbody>\n",
       "</table>\n",
       "</div>"
      ],
      "text/plain": [
       "       Age  GPA Gender   Name\n",
       "Id                           \n",
       "1001  12.0  3.0      M  Chris\n",
       "1002  34.0  3.3      F  Laura\n",
       "1003  22.0  2.9      M   Jack\n",
       "1004   NaN  3.5      F  Ellen\n",
       "1005  23.0  3.1      M   John\n",
       "1006  20.0  3.8      M    Max"
      ]
     },
     "execution_count": 54,
     "metadata": {},
     "output_type": "execute_result"
    }
   ],
   "source": [
    "example"
   ]
  },
  {
   "cell_type": "raw",
   "metadata": {},
   "source": [
    "In many cases, you might need to add new columns or delete columns"
   ]
  },
  {
   "cell_type": "code",
   "execution_count": 55,
   "metadata": {
    "collapsed": true
   },
   "outputs": [],
   "source": [
    "example['Department']='NotKnown'"
   ]
  },
  {
   "cell_type": "code",
   "execution_count": 56,
   "metadata": {},
   "outputs": [
    {
     "data": {
      "text/html": [
       "<div>\n",
       "<style>\n",
       "    .dataframe thead tr:only-child th {\n",
       "        text-align: right;\n",
       "    }\n",
       "\n",
       "    .dataframe thead th {\n",
       "        text-align: left;\n",
       "    }\n",
       "\n",
       "    .dataframe tbody tr th {\n",
       "        vertical-align: top;\n",
       "    }\n",
       "</style>\n",
       "<table border=\"1\" class=\"dataframe\">\n",
       "  <thead>\n",
       "    <tr style=\"text-align: right;\">\n",
       "      <th></th>\n",
       "      <th>Age</th>\n",
       "      <th>GPA</th>\n",
       "      <th>Gender</th>\n",
       "      <th>Name</th>\n",
       "      <th>Department</th>\n",
       "    </tr>\n",
       "    <tr>\n",
       "      <th>Id</th>\n",
       "      <th></th>\n",
       "      <th></th>\n",
       "      <th></th>\n",
       "      <th></th>\n",
       "      <th></th>\n",
       "    </tr>\n",
       "  </thead>\n",
       "  <tbody>\n",
       "    <tr>\n",
       "      <th>1001</th>\n",
       "      <td>12.0</td>\n",
       "      <td>3.0</td>\n",
       "      <td>M</td>\n",
       "      <td>Chris</td>\n",
       "      <td>NotKnown</td>\n",
       "    </tr>\n",
       "    <tr>\n",
       "      <th>1002</th>\n",
       "      <td>34.0</td>\n",
       "      <td>3.3</td>\n",
       "      <td>F</td>\n",
       "      <td>Laura</td>\n",
       "      <td>NotKnown</td>\n",
       "    </tr>\n",
       "    <tr>\n",
       "      <th>1003</th>\n",
       "      <td>22.0</td>\n",
       "      <td>2.9</td>\n",
       "      <td>M</td>\n",
       "      <td>Jack</td>\n",
       "      <td>NotKnown</td>\n",
       "    </tr>\n",
       "    <tr>\n",
       "      <th>1004</th>\n",
       "      <td>NaN</td>\n",
       "      <td>3.5</td>\n",
       "      <td>F</td>\n",
       "      <td>Ellen</td>\n",
       "      <td>NotKnown</td>\n",
       "    </tr>\n",
       "    <tr>\n",
       "      <th>1005</th>\n",
       "      <td>23.0</td>\n",
       "      <td>3.1</td>\n",
       "      <td>M</td>\n",
       "      <td>John</td>\n",
       "      <td>NotKnown</td>\n",
       "    </tr>\n",
       "    <tr>\n",
       "      <th>1006</th>\n",
       "      <td>20.0</td>\n",
       "      <td>3.8</td>\n",
       "      <td>M</td>\n",
       "      <td>Max</td>\n",
       "      <td>NotKnown</td>\n",
       "    </tr>\n",
       "  </tbody>\n",
       "</table>\n",
       "</div>"
      ],
      "text/plain": [
       "       Age  GPA Gender   Name Department\n",
       "Id                                      \n",
       "1001  12.0  3.0      M  Chris   NotKnown\n",
       "1002  34.0  3.3      F  Laura   NotKnown\n",
       "1003  22.0  2.9      M   Jack   NotKnown\n",
       "1004   NaN  3.5      F  Ellen   NotKnown\n",
       "1005  23.0  3.1      M   John   NotKnown\n",
       "1006  20.0  3.8      M    Max   NotKnown"
      ]
     },
     "execution_count": 56,
     "metadata": {},
     "output_type": "execute_result"
    }
   ],
   "source": [
    "example"
   ]
  },
  {
   "cell_type": "code",
   "execution_count": 57,
   "metadata": {
    "collapsed": true
   },
   "outputs": [],
   "source": [
    "del example['Department']"
   ]
  },
  {
   "cell_type": "code",
   "execution_count": 58,
   "metadata": {},
   "outputs": [
    {
     "data": {
      "text/html": [
       "<div>\n",
       "<style>\n",
       "    .dataframe thead tr:only-child th {\n",
       "        text-align: right;\n",
       "    }\n",
       "\n",
       "    .dataframe thead th {\n",
       "        text-align: left;\n",
       "    }\n",
       "\n",
       "    .dataframe tbody tr th {\n",
       "        vertical-align: top;\n",
       "    }\n",
       "</style>\n",
       "<table border=\"1\" class=\"dataframe\">\n",
       "  <thead>\n",
       "    <tr style=\"text-align: right;\">\n",
       "      <th></th>\n",
       "      <th>Age</th>\n",
       "      <th>GPA</th>\n",
       "      <th>Gender</th>\n",
       "      <th>Name</th>\n",
       "    </tr>\n",
       "    <tr>\n",
       "      <th>Id</th>\n",
       "      <th></th>\n",
       "      <th></th>\n",
       "      <th></th>\n",
       "      <th></th>\n",
       "    </tr>\n",
       "  </thead>\n",
       "  <tbody>\n",
       "    <tr>\n",
       "      <th>1001</th>\n",
       "      <td>12.0</td>\n",
       "      <td>3.0</td>\n",
       "      <td>M</td>\n",
       "      <td>Chris</td>\n",
       "    </tr>\n",
       "    <tr>\n",
       "      <th>1002</th>\n",
       "      <td>34.0</td>\n",
       "      <td>3.3</td>\n",
       "      <td>F</td>\n",
       "      <td>Laura</td>\n",
       "    </tr>\n",
       "    <tr>\n",
       "      <th>1003</th>\n",
       "      <td>22.0</td>\n",
       "      <td>2.9</td>\n",
       "      <td>M</td>\n",
       "      <td>Jack</td>\n",
       "    </tr>\n",
       "    <tr>\n",
       "      <th>1004</th>\n",
       "      <td>NaN</td>\n",
       "      <td>3.5</td>\n",
       "      <td>F</td>\n",
       "      <td>Ellen</td>\n",
       "    </tr>\n",
       "    <tr>\n",
       "      <th>1005</th>\n",
       "      <td>23.0</td>\n",
       "      <td>3.1</td>\n",
       "      <td>M</td>\n",
       "      <td>John</td>\n",
       "    </tr>\n",
       "    <tr>\n",
       "      <th>1006</th>\n",
       "      <td>20.0</td>\n",
       "      <td>3.8</td>\n",
       "      <td>M</td>\n",
       "      <td>Max</td>\n",
       "    </tr>\n",
       "  </tbody>\n",
       "</table>\n",
       "</div>"
      ],
      "text/plain": [
       "       Age  GPA Gender   Name\n",
       "Id                           \n",
       "1001  12.0  3.0      M  Chris\n",
       "1002  34.0  3.3      F  Laura\n",
       "1003  22.0  2.9      M   Jack\n",
       "1004   NaN  3.5      F  Ellen\n",
       "1005  23.0  3.1      M   John\n",
       "1006  20.0  3.8      M    Max"
      ]
     },
     "execution_count": 58,
     "metadata": {},
     "output_type": "execute_result"
    }
   ],
   "source": [
    "example"
   ]
  },
  {
   "cell_type": "code",
   "execution_count": 59,
   "metadata": {
    "collapsed": true
   },
   "outputs": [],
   "source": [
    "example['Adult']=example['Age']>=18"
   ]
  },
  {
   "cell_type": "code",
   "execution_count": 60,
   "metadata": {},
   "outputs": [
    {
     "data": {
      "text/html": [
       "<div>\n",
       "<style>\n",
       "    .dataframe thead tr:only-child th {\n",
       "        text-align: right;\n",
       "    }\n",
       "\n",
       "    .dataframe thead th {\n",
       "        text-align: left;\n",
       "    }\n",
       "\n",
       "    .dataframe tbody tr th {\n",
       "        vertical-align: top;\n",
       "    }\n",
       "</style>\n",
       "<table border=\"1\" class=\"dataframe\">\n",
       "  <thead>\n",
       "    <tr style=\"text-align: right;\">\n",
       "      <th></th>\n",
       "      <th>Age</th>\n",
       "      <th>GPA</th>\n",
       "      <th>Gender</th>\n",
       "      <th>Name</th>\n",
       "      <th>Adult</th>\n",
       "    </tr>\n",
       "    <tr>\n",
       "      <th>Id</th>\n",
       "      <th></th>\n",
       "      <th></th>\n",
       "      <th></th>\n",
       "      <th></th>\n",
       "      <th></th>\n",
       "    </tr>\n",
       "  </thead>\n",
       "  <tbody>\n",
       "    <tr>\n",
       "      <th>1001</th>\n",
       "      <td>12.0</td>\n",
       "      <td>3.0</td>\n",
       "      <td>M</td>\n",
       "      <td>Chris</td>\n",
       "      <td>False</td>\n",
       "    </tr>\n",
       "    <tr>\n",
       "      <th>1002</th>\n",
       "      <td>34.0</td>\n",
       "      <td>3.3</td>\n",
       "      <td>F</td>\n",
       "      <td>Laura</td>\n",
       "      <td>True</td>\n",
       "    </tr>\n",
       "    <tr>\n",
       "      <th>1003</th>\n",
       "      <td>22.0</td>\n",
       "      <td>2.9</td>\n",
       "      <td>M</td>\n",
       "      <td>Jack</td>\n",
       "      <td>True</td>\n",
       "    </tr>\n",
       "    <tr>\n",
       "      <th>1004</th>\n",
       "      <td>NaN</td>\n",
       "      <td>3.5</td>\n",
       "      <td>F</td>\n",
       "      <td>Ellen</td>\n",
       "      <td>False</td>\n",
       "    </tr>\n",
       "    <tr>\n",
       "      <th>1005</th>\n",
       "      <td>23.0</td>\n",
       "      <td>3.1</td>\n",
       "      <td>M</td>\n",
       "      <td>John</td>\n",
       "      <td>True</td>\n",
       "    </tr>\n",
       "    <tr>\n",
       "      <th>1006</th>\n",
       "      <td>20.0</td>\n",
       "      <td>3.8</td>\n",
       "      <td>M</td>\n",
       "      <td>Max</td>\n",
       "      <td>True</td>\n",
       "    </tr>\n",
       "  </tbody>\n",
       "</table>\n",
       "</div>"
      ],
      "text/plain": [
       "       Age  GPA Gender   Name  Adult\n",
       "Id                                  \n",
       "1001  12.0  3.0      M  Chris  False\n",
       "1002  34.0  3.3      F  Laura   True\n",
       "1003  22.0  2.9      M   Jack   True\n",
       "1004   NaN  3.5      F  Ellen  False\n",
       "1005  23.0  3.1      M   John   True\n",
       "1006  20.0  3.8      M    Max   True"
      ]
     },
     "execution_count": 60,
     "metadata": {},
     "output_type": "execute_result"
    }
   ],
   "source": [
    "example"
   ]
  },
  {
   "cell_type": "code",
   "execution_count": 62,
   "metadata": {},
   "outputs": [
    {
     "data": {
      "text/plain": [
       "False"
      ]
     },
     "execution_count": 62,
     "metadata": {},
     "output_type": "execute_result"
    }
   ],
   "source": [
    "example['Adult'].all()  # check if all true"
   ]
  },
  {
   "cell_type": "code",
   "execution_count": 63,
   "metadata": {
    "collapsed": true
   },
   "outputs": [],
   "source": [
    "example=example.drop('Adult',axis=1) # another way to delete a column default: drop rows"
   ]
  },
  {
   "cell_type": "code",
   "execution_count": 64,
   "metadata": {},
   "outputs": [
    {
     "data": {
      "text/html": [
       "<div>\n",
       "<style>\n",
       "    .dataframe thead tr:only-child th {\n",
       "        text-align: right;\n",
       "    }\n",
       "\n",
       "    .dataframe thead th {\n",
       "        text-align: left;\n",
       "    }\n",
       "\n",
       "    .dataframe tbody tr th {\n",
       "        vertical-align: top;\n",
       "    }\n",
       "</style>\n",
       "<table border=\"1\" class=\"dataframe\">\n",
       "  <thead>\n",
       "    <tr style=\"text-align: right;\">\n",
       "      <th></th>\n",
       "      <th>Age</th>\n",
       "      <th>GPA</th>\n",
       "      <th>Gender</th>\n",
       "      <th>Name</th>\n",
       "    </tr>\n",
       "    <tr>\n",
       "      <th>Id</th>\n",
       "      <th></th>\n",
       "      <th></th>\n",
       "      <th></th>\n",
       "      <th></th>\n",
       "    </tr>\n",
       "  </thead>\n",
       "  <tbody>\n",
       "    <tr>\n",
       "      <th>1001</th>\n",
       "      <td>12.0</td>\n",
       "      <td>3.0</td>\n",
       "      <td>M</td>\n",
       "      <td>Chris</td>\n",
       "    </tr>\n",
       "    <tr>\n",
       "      <th>1002</th>\n",
       "      <td>34.0</td>\n",
       "      <td>3.3</td>\n",
       "      <td>F</td>\n",
       "      <td>Laura</td>\n",
       "    </tr>\n",
       "    <tr>\n",
       "      <th>1003</th>\n",
       "      <td>22.0</td>\n",
       "      <td>2.9</td>\n",
       "      <td>M</td>\n",
       "      <td>Jack</td>\n",
       "    </tr>\n",
       "    <tr>\n",
       "      <th>1004</th>\n",
       "      <td>NaN</td>\n",
       "      <td>3.5</td>\n",
       "      <td>F</td>\n",
       "      <td>Ellen</td>\n",
       "    </tr>\n",
       "    <tr>\n",
       "      <th>1005</th>\n",
       "      <td>23.0</td>\n",
       "      <td>3.1</td>\n",
       "      <td>M</td>\n",
       "      <td>John</td>\n",
       "    </tr>\n",
       "    <tr>\n",
       "      <th>1006</th>\n",
       "      <td>20.0</td>\n",
       "      <td>3.8</td>\n",
       "      <td>M</td>\n",
       "      <td>Max</td>\n",
       "    </tr>\n",
       "  </tbody>\n",
       "</table>\n",
       "</div>"
      ],
      "text/plain": [
       "       Age  GPA Gender   Name\n",
       "Id                           \n",
       "1001  12.0  3.0      M  Chris\n",
       "1002  34.0  3.3      F  Laura\n",
       "1003  22.0  2.9      M   Jack\n",
       "1004   NaN  3.5      F  Ellen\n",
       "1005  23.0  3.1      M   John\n",
       "1006  20.0  3.8      M    Max"
      ]
     },
     "execution_count": 64,
     "metadata": {},
     "output_type": "execute_result"
    }
   ],
   "source": [
    "example"
   ]
  },
  {
   "cell_type": "raw",
   "metadata": {},
   "source": [
    "Note: Dataframe has two axis, axis=0 which is the default and axis=1. to memorize this, we can say when axis=0 we are getting or losing a row.  when axis=1, we are getting or losing a column, I find this the best way to memorize this."
   ]
  },
  {
   "cell_type": "raw",
   "metadata": {},
   "source": [
    "In the previous example, we are always working on a single column. what if we want to work on multiple columns, simply pass a list of target column names to the indexing operator, so if you pass a string, you will get a Series, if you pass a list, you will get a new dataframe."
   ]
  },
  {
   "cell_type": "code",
   "execution_count": 66,
   "metadata": {
    "collapsed": true
   },
   "outputs": [],
   "source": [
    "Student_Age_Name=example[['Name','Age']]"
   ]
  },
  {
   "cell_type": "code",
   "execution_count": 67,
   "metadata": {},
   "outputs": [
    {
     "data": {
      "text/html": [
       "<div>\n",
       "<style>\n",
       "    .dataframe thead tr:only-child th {\n",
       "        text-align: right;\n",
       "    }\n",
       "\n",
       "    .dataframe thead th {\n",
       "        text-align: left;\n",
       "    }\n",
       "\n",
       "    .dataframe tbody tr th {\n",
       "        vertical-align: top;\n",
       "    }\n",
       "</style>\n",
       "<table border=\"1\" class=\"dataframe\">\n",
       "  <thead>\n",
       "    <tr style=\"text-align: right;\">\n",
       "      <th></th>\n",
       "      <th>Name</th>\n",
       "      <th>Age</th>\n",
       "    </tr>\n",
       "    <tr>\n",
       "      <th>Id</th>\n",
       "      <th></th>\n",
       "      <th></th>\n",
       "    </tr>\n",
       "  </thead>\n",
       "  <tbody>\n",
       "    <tr>\n",
       "      <th>1001</th>\n",
       "      <td>Chris</td>\n",
       "      <td>12.0</td>\n",
       "    </tr>\n",
       "    <tr>\n",
       "      <th>1002</th>\n",
       "      <td>Laura</td>\n",
       "      <td>34.0</td>\n",
       "    </tr>\n",
       "    <tr>\n",
       "      <th>1003</th>\n",
       "      <td>Jack</td>\n",
       "      <td>22.0</td>\n",
       "    </tr>\n",
       "    <tr>\n",
       "      <th>1004</th>\n",
       "      <td>Ellen</td>\n",
       "      <td>NaN</td>\n",
       "    </tr>\n",
       "    <tr>\n",
       "      <th>1005</th>\n",
       "      <td>John</td>\n",
       "      <td>23.0</td>\n",
       "    </tr>\n",
       "    <tr>\n",
       "      <th>1006</th>\n",
       "      <td>Max</td>\n",
       "      <td>20.0</td>\n",
       "    </tr>\n",
       "  </tbody>\n",
       "</table>\n",
       "</div>"
      ],
      "text/plain": [
       "       Name   Age\n",
       "Id               \n",
       "1001  Chris  12.0\n",
       "1002  Laura  34.0\n",
       "1003   Jack  22.0\n",
       "1004  Ellen   NaN\n",
       "1005   John  23.0\n",
       "1006    Max  20.0"
      ]
     },
     "execution_count": 67,
     "metadata": {},
     "output_type": "execute_result"
    }
   ],
   "source": [
    "Student_Age_Name"
   ]
  },
  {
   "cell_type": "raw",
   "metadata": {},
   "source": [
    "another way to get columns is using method, such as filter\n",
    "df.filter(like='targetInfo') "
   ]
  },
  {
   "cell_type": "code",
   "execution_count": 72,
   "metadata": {},
   "outputs": [
    {
     "data": {
      "text/plain": [
       "2"
      ]
     },
     "execution_count": 72,
     "metadata": {},
     "output_type": "execute_result"
    }
   ],
   "source": [
    "example.Gender.nunique()"
   ]
  },
  {
   "cell_type": "raw",
   "metadata": {},
   "source": [
    "selecting subsets of data"
   ]
  },
  {
   "cell_type": "raw",
   "metadata": {},
   "source": [
    "df.iloc[rows,columns]\n",
    "df.loc[rows,columns]\n",
    "here, rows and columns can be scalar values, lists,slice objects or boolean sequences."
   ]
  },
  {
   "cell_type": "code",
   "execution_count": 84,
   "metadata": {},
   "outputs": [
    {
     "data": {
      "text/html": [
       "<div>\n",
       "<style>\n",
       "    .dataframe thead tr:only-child th {\n",
       "        text-align: right;\n",
       "    }\n",
       "\n",
       "    .dataframe thead th {\n",
       "        text-align: left;\n",
       "    }\n",
       "\n",
       "    .dataframe tbody tr th {\n",
       "        vertical-align: top;\n",
       "    }\n",
       "</style>\n",
       "<table border=\"1\" class=\"dataframe\">\n",
       "  <thead>\n",
       "    <tr style=\"text-align: right;\">\n",
       "      <th></th>\n",
       "      <th>Name</th>\n",
       "      <th>Age</th>\n",
       "    </tr>\n",
       "    <tr>\n",
       "      <th>Id</th>\n",
       "      <th></th>\n",
       "      <th></th>\n",
       "    </tr>\n",
       "  </thead>\n",
       "  <tbody>\n",
       "    <tr>\n",
       "      <th>1001</th>\n",
       "      <td>Chris</td>\n",
       "      <td>12.0</td>\n",
       "    </tr>\n",
       "    <tr>\n",
       "      <th>1002</th>\n",
       "      <td>Laura</td>\n",
       "      <td>34.0</td>\n",
       "    </tr>\n",
       "    <tr>\n",
       "      <th>1003</th>\n",
       "      <td>Jack</td>\n",
       "      <td>22.0</td>\n",
       "    </tr>\n",
       "    <tr>\n",
       "      <th>1004</th>\n",
       "      <td>Ellen</td>\n",
       "      <td>NaN</td>\n",
       "    </tr>\n",
       "    <tr>\n",
       "      <th>1005</th>\n",
       "      <td>John</td>\n",
       "      <td>23.0</td>\n",
       "    </tr>\n",
       "    <tr>\n",
       "      <th>1006</th>\n",
       "      <td>Max</td>\n",
       "      <td>20.0</td>\n",
       "    </tr>\n",
       "  </tbody>\n",
       "</table>\n",
       "</div>"
      ],
      "text/plain": [
       "       Name   Age\n",
       "Id               \n",
       "1001  Chris  12.0\n",
       "1002  Laura  34.0\n",
       "1003   Jack  22.0\n",
       "1004  Ellen   NaN\n",
       "1005   John  23.0\n",
       "1006    Max  20.0"
      ]
     },
     "execution_count": 84,
     "metadata": {},
     "output_type": "execute_result"
    }
   ],
   "source": [
    "example.loc[: ,['Name','Age']]"
   ]
  },
  {
   "cell_type": "code",
   "execution_count": 85,
   "metadata": {},
   "outputs": [
    {
     "data": {
      "text/html": [
       "<div>\n",
       "<style>\n",
       "    .dataframe thead tr:only-child th {\n",
       "        text-align: right;\n",
       "    }\n",
       "\n",
       "    .dataframe thead th {\n",
       "        text-align: left;\n",
       "    }\n",
       "\n",
       "    .dataframe tbody tr th {\n",
       "        vertical-align: top;\n",
       "    }\n",
       "</style>\n",
       "<table border=\"1\" class=\"dataframe\">\n",
       "  <thead>\n",
       "    <tr style=\"text-align: right;\">\n",
       "      <th></th>\n",
       "      <th>Age</th>\n",
       "      <th>GPA</th>\n",
       "      <th>Gender</th>\n",
       "    </tr>\n",
       "    <tr>\n",
       "      <th>Id</th>\n",
       "      <th></th>\n",
       "      <th></th>\n",
       "      <th></th>\n",
       "    </tr>\n",
       "  </thead>\n",
       "  <tbody>\n",
       "    <tr>\n",
       "      <th>1001</th>\n",
       "      <td>12.0</td>\n",
       "      <td>3.0</td>\n",
       "      <td>M</td>\n",
       "    </tr>\n",
       "    <tr>\n",
       "      <th>1002</th>\n",
       "      <td>34.0</td>\n",
       "      <td>3.3</td>\n",
       "      <td>F</td>\n",
       "    </tr>\n",
       "    <tr>\n",
       "      <th>1003</th>\n",
       "      <td>22.0</td>\n",
       "      <td>2.9</td>\n",
       "      <td>M</td>\n",
       "    </tr>\n",
       "    <tr>\n",
       "      <th>1004</th>\n",
       "      <td>NaN</td>\n",
       "      <td>3.5</td>\n",
       "      <td>F</td>\n",
       "    </tr>\n",
       "  </tbody>\n",
       "</table>\n",
       "</div>"
      ],
      "text/plain": [
       "       Age  GPA Gender\n",
       "Id                    \n",
       "1001  12.0  3.0      M\n",
       "1002  34.0  3.3      F\n",
       "1003  22.0  2.9      M\n",
       "1004   NaN  3.5      F"
      ]
     },
     "execution_count": 85,
     "metadata": {},
     "output_type": "execute_result"
    }
   ],
   "source": [
    "example.loc['1001':'1004','Age':'Gender']"
   ]
  },
  {
   "cell_type": "raw",
   "metadata": {},
   "source": [
    "another way is using boolean filter or boolean indexing"
   ]
  },
  {
   "cell_type": "code",
   "execution_count": 88,
   "metadata": {
    "collapsed": true
   },
   "outputs": [],
   "source": [
    "AdultOrNot=example['Age']>=18"
   ]
  },
  {
   "cell_type": "code",
   "execution_count": 89,
   "metadata": {},
   "outputs": [
    {
     "data": {
      "text/plain": [
       "Id\n",
       "1001    False\n",
       "1002     True\n",
       "1003     True\n",
       "1004    False\n",
       "1005     True\n",
       "1006     True\n",
       "Name: Age, dtype: bool"
      ]
     },
     "execution_count": 89,
     "metadata": {},
     "output_type": "execute_result"
    }
   ],
   "source": [
    "AdultOrNot"
   ]
  },
  {
   "cell_type": "code",
   "execution_count": 90,
   "metadata": {},
   "outputs": [
    {
     "data": {
      "text/plain": [
       "4"
      ]
     },
     "execution_count": 90,
     "metadata": {},
     "output_type": "execute_result"
    }
   ],
   "source": [
    "AdultOrNot.sum()"
   ]
  },
  {
   "cell_type": "code",
   "execution_count": 91,
   "metadata": {},
   "outputs": [
    {
     "data": {
      "text/plain": [
       "0.66666666666666663"
      ]
     },
     "execution_count": 91,
     "metadata": {},
     "output_type": "execute_result"
    }
   ],
   "source": [
    "AdultOrNot.mean() # about 67% of students are adults."
   ]
  },
  {
   "cell_type": "code",
   "execution_count": 95,
   "metadata": {},
   "outputs": [
    {
     "data": {
      "text/plain": [
       "Id\n",
       "1001    False\n",
       "1002     True\n",
       "1003    False\n",
       "1004    False\n",
       "1005     True\n",
       "1006     True\n",
       "dtype: bool"
      ]
     },
     "execution_count": 95,
     "metadata": {},
     "output_type": "execute_result"
    }
   ],
   "source": [
    "criteria1=example.Gender=='F'\n",
    "criteria2=example.Age>=18\n",
    "criteria3=example.GPA>3.0\n",
    "\n",
    "criterias=criteria1&criteria2&criteria3\n",
    "criterias"
   ]
  },
  {
   "cell_type": "code",
   "execution_count": 96,
   "metadata": {},
   "outputs": [
    {
     "data": {
      "text/html": [
       "<div>\n",
       "<style>\n",
       "    .dataframe thead tr:only-child th {\n",
       "        text-align: right;\n",
       "    }\n",
       "\n",
       "    .dataframe thead th {\n",
       "        text-align: left;\n",
       "    }\n",
       "\n",
       "    .dataframe tbody tr th {\n",
       "        vertical-align: top;\n",
       "    }\n",
       "</style>\n",
       "<table border=\"1\" class=\"dataframe\">\n",
       "  <thead>\n",
       "    <tr style=\"text-align: right;\">\n",
       "      <th></th>\n",
       "      <th>Age</th>\n",
       "      <th>GPA</th>\n",
       "      <th>Gender</th>\n",
       "      <th>Name</th>\n",
       "    </tr>\n",
       "    <tr>\n",
       "      <th>Id</th>\n",
       "      <th></th>\n",
       "      <th></th>\n",
       "      <th></th>\n",
       "      <th></th>\n",
       "    </tr>\n",
       "  </thead>\n",
       "  <tbody>\n",
       "    <tr>\n",
       "      <th>1002</th>\n",
       "      <td>34.0</td>\n",
       "      <td>3.3</td>\n",
       "      <td>F</td>\n",
       "      <td>Laura</td>\n",
       "    </tr>\n",
       "    <tr>\n",
       "      <th>1005</th>\n",
       "      <td>23.0</td>\n",
       "      <td>3.1</td>\n",
       "      <td>F</td>\n",
       "      <td>John</td>\n",
       "    </tr>\n",
       "    <tr>\n",
       "      <th>1006</th>\n",
       "      <td>20.0</td>\n",
       "      <td>3.8</td>\n",
       "      <td>F</td>\n",
       "      <td>Max</td>\n",
       "    </tr>\n",
       "  </tbody>\n",
       "</table>\n",
       "</div>"
      ],
      "text/plain": [
       "       Age  GPA Gender   Name\n",
       "Id                           \n",
       "1002  34.0  3.3      F  Laura\n",
       "1005  23.0  3.1      F   John\n",
       "1006  20.0  3.8      F    Max"
      ]
     },
     "execution_count": 96,
     "metadata": {},
     "output_type": "execute_result"
    }
   ],
   "source": [
    "example[criterias]"
   ]
  },
  {
   "cell_type": "raw",
   "metadata": {},
   "source": [
    "Note: the comparison operators have a higher precedence than and ,or and not.\n",
    "the bitwise operators &|and ~ have higher precedence than comparison operators.\n",
    "the best practice as to add parentheses.\n",
    "\n",
    "in the upper example, we use & instead of keyword and. because, and ,or and not keywords evaluate the truthiness of the objects as whole. it make no sense to check if a whole series is truth not so we use & ."
   ]
  },
  {
   "cell_type": "raw",
   "metadata": {},
   "source": [
    "next, we will talk more about index"
   ]
  },
  {
   "cell_type": "code",
   "execution_count": 97,
   "metadata": {
    "collapsed": true
   },
   "outputs": [],
   "source": [
    "columns=example.columns"
   ]
  },
  {
   "cell_type": "code",
   "execution_count": 98,
   "metadata": {},
   "outputs": [
    {
     "data": {
      "text/plain": [
       "Index(['Age', 'GPA', 'Gender', 'Name'], dtype='object')"
      ]
     },
     "execution_count": 98,
     "metadata": {},
     "output_type": "execute_result"
    }
   ],
   "source": [
    "columns"
   ]
  },
  {
   "cell_type": "code",
   "execution_count": 99,
   "metadata": {},
   "outputs": [
    {
     "data": {
      "text/plain": [
       "array(['Age', 'GPA', 'Gender', 'Name'], dtype=object)"
      ]
     },
     "execution_count": 99,
     "metadata": {},
     "output_type": "execute_result"
    }
   ],
   "source": [
    "columns.values"
   ]
  },
  {
   "cell_type": "code",
   "execution_count": 100,
   "metadata": {},
   "outputs": [
    {
     "data": {
      "text/plain": [
       "'Gender'"
      ]
     },
     "execution_count": 100,
     "metadata": {},
     "output_type": "execute_result"
    }
   ],
   "source": [
    "columns[2]"
   ]
  },
  {
   "cell_type": "code",
   "execution_count": 101,
   "metadata": {},
   "outputs": [
    {
     "data": {
      "text/plain": [
       "'Age'"
      ]
     },
     "execution_count": 101,
     "metadata": {},
     "output_type": "execute_result"
    }
   ],
   "source": [
    "columns.min()"
   ]
  },
  {
   "cell_type": "raw",
   "metadata": {},
   "source": [
    "index object works kind of like Series and dataframes and ndarrays. one of the biggest difference is that index is immutable.\n"
   ]
  },
  {
   "cell_type": "code",
   "execution_count": 122,
   "metadata": {
    "collapsed": true
   },
   "outputs": [],
   "source": [
    "s1=pd.Series([1,2,3,4],index=list('abcd'))"
   ]
  },
  {
   "cell_type": "code",
   "execution_count": 123,
   "metadata": {
    "collapsed": true
   },
   "outputs": [],
   "source": [
    "s2=pd.Series([0,2,0,4],index=list('abcd'))"
   ]
  },
  {
   "cell_type": "code",
   "execution_count": 124,
   "metadata": {},
   "outputs": [
    {
     "data": {
      "text/plain": [
       "a    1\n",
       "b    4\n",
       "c    3\n",
       "d    8\n",
       "dtype: int64"
      ]
     },
     "execution_count": 124,
     "metadata": {},
     "output_type": "execute_result"
    }
   ],
   "source": [
    "s1+s2"
   ]
  },
  {
   "cell_type": "raw",
   "metadata": {},
   "source": [
    "in the upper example, Series s1 ans s2 share the same index.\n",
    "if the index are not the same, Cartesian product will be executed, see the example below."
   ]
  },
  {
   "cell_type": "code",
   "execution_count": 127,
   "metadata": {},
   "outputs": [
    {
     "data": {
      "text/plain": [
       "a    1.0\n",
       "a    3.0\n",
       "a    2.0\n",
       "a    4.0\n",
       "a    3.0\n",
       "a    5.0\n",
       "d    4.0\n",
       "e    NaN\n",
       "f    NaN\n",
       "dtype: float64"
      ]
     },
     "execution_count": 127,
     "metadata": {},
     "output_type": "execute_result"
    }
   ],
   "source": [
    "s1=pd.Series([1,2,3,4],index=list('aaad'))\n",
    "s2=pd.Series([0,2,0,4,7],index=list('aadef'))\n",
    "s1+s2"
   ]
  },
  {
   "cell_type": "code",
   "execution_count": null,
   "metadata": {
    "collapsed": true
   },
   "outputs": [],
   "source": [
    "to be added "
   ]
  },
  {
   "cell_type": "raw",
   "metadata": {},
   "source": [
    "Grouping for Aggregation,filtration and transformation\n",
    "Aggregation means collapsing a whole lot of numbers into one number.\n",
    "we will explain with an example"
   ]
  },
  {
   "cell_type": "code",
   "execution_count": 97,
   "metadata": {},
   "outputs": [],
   "source": [
    "App_data=pd.read_csv('Appdata2017.csv',header=None, encoding='ISO-8859-1',na_values=[r'\\N'])"
   ]
  },
  {
   "cell_type": "code",
   "execution_count": 98,
   "metadata": {},
   "outputs": [
    {
     "data": {
      "text/html": [
       "<div>\n",
       "<style>\n",
       "    .dataframe thead tr:only-child th {\n",
       "        text-align: right;\n",
       "    }\n",
       "\n",
       "    .dataframe thead th {\n",
       "        text-align: left;\n",
       "    }\n",
       "\n",
       "    .dataframe tbody tr th {\n",
       "        vertical-align: top;\n",
       "    }\n",
       "</style>\n",
       "<table border=\"1\" class=\"dataframe\">\n",
       "  <thead>\n",
       "    <tr style=\"text-align: right;\">\n",
       "      <th></th>\n",
       "      <th>0</th>\n",
       "      <th>1</th>\n",
       "      <th>2</th>\n",
       "      <th>3</th>\n",
       "      <th>4</th>\n",
       "      <th>5</th>\n",
       "    </tr>\n",
       "  </thead>\n",
       "  <tbody>\n",
       "    <tr>\n",
       "      <th>0</th>\n",
       "      <td>ACMI.GameMasters</td>\n",
       "      <td>Game</td>\n",
       "      <td>1000</td>\n",
       "      <td>3.4</td>\n",
       "      <td>Free</td>\n",
       "      <td>Australian Centre for the Moving Image</td>\n",
       "    </tr>\n",
       "    <tr>\n",
       "      <th>1</th>\n",
       "      <td>ACinc.ascensionG.T</td>\n",
       "      <td>Game</td>\n",
       "      <td>1000</td>\n",
       "      <td>3.6</td>\n",
       "      <td>Free</td>\n",
       "      <td>Overflow</td>\n",
       "    </tr>\n",
       "    <tr>\n",
       "      <th>2</th>\n",
       "      <td>AControl.Main</td>\n",
       "      <td>Entertainment</td>\n",
       "      <td>5000</td>\n",
       "      <td>2.9</td>\n",
       "      <td>Free</td>\n",
       "      <td>Claray</td>\n",
       "    </tr>\n",
       "    <tr>\n",
       "      <th>3</th>\n",
       "      <td>ADW.Alien.Abstract</td>\n",
       "      <td>Personalization</td>\n",
       "      <td>100</td>\n",
       "      <td>4.5</td>\n",
       "      <td>CN£¤5.50 Buy</td>\n",
       "      <td>Alessandro Vuono</td>\n",
       "    </tr>\n",
       "    <tr>\n",
       "      <th>4</th>\n",
       "      <td>ADW.Black.Carbon</td>\n",
       "      <td>Personalization</td>\n",
       "      <td>100</td>\n",
       "      <td>4.5</td>\n",
       "      <td>CN£¤5.50 Buy</td>\n",
       "      <td>Alessandro Vuono</td>\n",
       "    </tr>\n",
       "  </tbody>\n",
       "</table>\n",
       "</div>"
      ],
      "text/plain": [
       "                    0                1     2    3             4  \\\n",
       "0    ACMI.GameMasters             Game  1000  3.4          Free   \n",
       "1  ACinc.ascensionG.T             Game  1000  3.6          Free   \n",
       "2       AControl.Main    Entertainment  5000  2.9          Free   \n",
       "3  ADW.Alien.Abstract  Personalization   100  4.5  CN£¤5.50 Buy   \n",
       "4    ADW.Black.Carbon  Personalization   100  4.5  CN£¤5.50 Buy   \n",
       "\n",
       "                                        5  \n",
       "0  Australian Centre for the Moving Image  \n",
       "1                                Overflow  \n",
       "2                                  Claray  \n",
       "3                        Alessandro Vuono  \n",
       "4                        Alessandro Vuono  "
      ]
     },
     "execution_count": 98,
     "metadata": {},
     "output_type": "execute_result"
    }
   ],
   "source": [
    "App_data.head()"
   ]
  },
  {
   "cell_type": "code",
   "execution_count": 99,
   "metadata": {},
   "outputs": [
    {
     "data": {
      "text/html": [
       "<div>\n",
       "<style>\n",
       "    .dataframe thead tr:only-child th {\n",
       "        text-align: right;\n",
       "    }\n",
       "\n",
       "    .dataframe thead th {\n",
       "        text-align: left;\n",
       "    }\n",
       "\n",
       "    .dataframe tbody tr th {\n",
       "        vertical-align: top;\n",
       "    }\n",
       "</style>\n",
       "<table border=\"1\" class=\"dataframe\">\n",
       "  <thead>\n",
       "    <tr style=\"text-align: right;\">\n",
       "      <th></th>\n",
       "      <th>Category</th>\n",
       "      <th>Downloads</th>\n",
       "      <th>Rating</th>\n",
       "      <th>Price</th>\n",
       "      <th>Developer</th>\n",
       "    </tr>\n",
       "    <tr>\n",
       "      <th>PkgName</th>\n",
       "      <th></th>\n",
       "      <th></th>\n",
       "      <th></th>\n",
       "      <th></th>\n",
       "      <th></th>\n",
       "    </tr>\n",
       "  </thead>\n",
       "  <tbody>\n",
       "    <tr>\n",
       "      <th>ACMI.GameMasters</th>\n",
       "      <td>Game</td>\n",
       "      <td>1000</td>\n",
       "      <td>3.4</td>\n",
       "      <td>Free</td>\n",
       "      <td>Australian Centre for the Moving Image</td>\n",
       "    </tr>\n",
       "    <tr>\n",
       "      <th>ACinc.ascensionG.T</th>\n",
       "      <td>Game</td>\n",
       "      <td>1000</td>\n",
       "      <td>3.6</td>\n",
       "      <td>Free</td>\n",
       "      <td>Overflow</td>\n",
       "    </tr>\n",
       "    <tr>\n",
       "      <th>AControl.Main</th>\n",
       "      <td>Entertainment</td>\n",
       "      <td>5000</td>\n",
       "      <td>2.9</td>\n",
       "      <td>Free</td>\n",
       "      <td>Claray</td>\n",
       "    </tr>\n",
       "    <tr>\n",
       "      <th>ADW.Alien.Abstract</th>\n",
       "      <td>Personalization</td>\n",
       "      <td>100</td>\n",
       "      <td>4.5</td>\n",
       "      <td>CN£¤5.50 Buy</td>\n",
       "      <td>Alessandro Vuono</td>\n",
       "    </tr>\n",
       "    <tr>\n",
       "      <th>ADW.Black.Carbon</th>\n",
       "      <td>Personalization</td>\n",
       "      <td>100</td>\n",
       "      <td>4.5</td>\n",
       "      <td>CN£¤5.50 Buy</td>\n",
       "      <td>Alessandro Vuono</td>\n",
       "    </tr>\n",
       "  </tbody>\n",
       "</table>\n",
       "</div>"
      ],
      "text/plain": [
       "                           Category  Downloads  Rating         Price  \\\n",
       "PkgName                                                                \n",
       "ACMI.GameMasters               Game       1000     3.4          Free   \n",
       "ACinc.ascensionG.T             Game       1000     3.6          Free   \n",
       "AControl.Main         Entertainment       5000     2.9          Free   \n",
       "ADW.Alien.Abstract  Personalization        100     4.5  CN£¤5.50 Buy   \n",
       "ADW.Black.Carbon    Personalization        100     4.5  CN£¤5.50 Buy   \n",
       "\n",
       "                                                 Developer  \n",
       "PkgName                                                     \n",
       "ACMI.GameMasters    Australian Centre for the Moving Image  \n",
       "ACinc.ascensionG.T                                Overflow  \n",
       "AControl.Main                                       Claray  \n",
       "ADW.Alien.Abstract                        Alessandro Vuono  \n",
       "ADW.Black.Carbon                          Alessandro Vuono  "
      ]
     },
     "execution_count": 99,
     "metadata": {},
     "output_type": "execute_result"
    }
   ],
   "source": [
    "App_data.columns=['PkgName','Category','Downloads','Rating','Price','Developer']\n",
    "App_data.set_index('PkgName',inplace=True)\n",
    "App_data.head()"
   ]
  },
  {
   "cell_type": "code",
   "execution_count": 100,
   "metadata": {},
   "outputs": [
    {
     "name": "stdout",
     "output_type": "stream",
     "text": [
      "<class 'pandas.core.frame.DataFrame'>\n",
      "Index: 200 entries, ACMI.GameMasters to BTS15.S\n",
      "Data columns (total 5 columns):\n",
      "Category     200 non-null object\n",
      "Downloads    200 non-null int64\n",
      "Rating       156 non-null float64\n",
      "Price        200 non-null object\n",
      "Developer    199 non-null object\n",
      "dtypes: float64(1), int64(1), object(3)\n",
      "memory usage: 9.4+ KB\n"
     ]
    }
   ],
   "source": [
    "App_data.info()  # Rating column's data type should be float, but it shows object,where we should pay attention"
   ]
  },
  {
   "cell_type": "raw",
   "metadata": {},
   "source": [
    "now suppose we want to calculate the average downloads for each category\n",
    "actually, we can do this in multiple ways"
   ]
  },
  {
   "cell_type": "code",
   "execution_count": 101,
   "metadata": {},
   "outputs": [
    {
     "data": {
      "text/html": [
       "<div>\n",
       "<style>\n",
       "    .dataframe thead tr:only-child th {\n",
       "        text-align: right;\n",
       "    }\n",
       "\n",
       "    .dataframe thead th {\n",
       "        text-align: left;\n",
       "    }\n",
       "\n",
       "    .dataframe tbody tr th {\n",
       "        vertical-align: top;\n",
       "    }\n",
       "</style>\n",
       "<table border=\"1\" class=\"dataframe\">\n",
       "  <thead>\n",
       "    <tr style=\"text-align: right;\">\n",
       "      <th></th>\n",
       "      <th>Downloads</th>\n",
       "      <th>Rating</th>\n",
       "    </tr>\n",
       "    <tr>\n",
       "      <th>Category</th>\n",
       "      <th></th>\n",
       "      <th></th>\n",
       "    </tr>\n",
       "  </thead>\n",
       "  <tbody>\n",
       "    <tr>\n",
       "      <th>Books &amp; Reference</th>\n",
       "      <td>25252.500000</td>\n",
       "      <td>3.725000</td>\n",
       "    </tr>\n",
       "    <tr>\n",
       "      <th>Business</th>\n",
       "      <td>5250.000000</td>\n",
       "      <td>3.650000</td>\n",
       "    </tr>\n",
       "    <tr>\n",
       "      <th>Casual</th>\n",
       "      <td>6978.812500</td>\n",
       "      <td>3.428571</td>\n",
       "    </tr>\n",
       "    <tr>\n",
       "      <th>Comics</th>\n",
       "      <td>500.000000</td>\n",
       "      <td>4.800000</td>\n",
       "    </tr>\n",
       "    <tr>\n",
       "      <th>Communication</th>\n",
       "      <td>100.000000</td>\n",
       "      <td>3.500000</td>\n",
       "    </tr>\n",
       "    <tr>\n",
       "      <th>Education</th>\n",
       "      <td>144812.500000</td>\n",
       "      <td>4.037500</td>\n",
       "    </tr>\n",
       "    <tr>\n",
       "      <th>Entertainment</th>\n",
       "      <td>67720.000000</td>\n",
       "      <td>3.570000</td>\n",
       "    </tr>\n",
       "    <tr>\n",
       "      <th>Finance</th>\n",
       "      <td>13220.000000</td>\n",
       "      <td>3.760000</td>\n",
       "    </tr>\n",
       "    <tr>\n",
       "      <th>Game</th>\n",
       "      <td>7611.333333</td>\n",
       "      <td>3.700000</td>\n",
       "    </tr>\n",
       "    <tr>\n",
       "      <th>Health &amp; Fitness</th>\n",
       "      <td>25191.666667</td>\n",
       "      <td>4.133333</td>\n",
       "    </tr>\n",
       "    <tr>\n",
       "      <th>Libraries &amp; Demo</th>\n",
       "      <td>100.000000</td>\n",
       "      <td>4.200000</td>\n",
       "    </tr>\n",
       "    <tr>\n",
       "      <th>Lifestyle</th>\n",
       "      <td>1828.571429</td>\n",
       "      <td>3.883333</td>\n",
       "    </tr>\n",
       "    <tr>\n",
       "      <th>Maps &amp; Navigation</th>\n",
       "      <td>5262.500000</td>\n",
       "      <td>3.875000</td>\n",
       "    </tr>\n",
       "    <tr>\n",
       "      <th>Medical</th>\n",
       "      <td>683.333333</td>\n",
       "      <td>3.066667</td>\n",
       "    </tr>\n",
       "    <tr>\n",
       "      <th>Music &amp; Audio</th>\n",
       "      <td>10000.000000</td>\n",
       "      <td>3.700000</td>\n",
       "    </tr>\n",
       "    <tr>\n",
       "      <th>News &amp; Magazines</th>\n",
       "      <td>100000.000000</td>\n",
       "      <td>3.400000</td>\n",
       "    </tr>\n",
       "    <tr>\n",
       "      <th>Personalization</th>\n",
       "      <td>2232.781818</td>\n",
       "      <td>4.496774</td>\n",
       "    </tr>\n",
       "    <tr>\n",
       "      <th>Photography</th>\n",
       "      <td>25.857143</td>\n",
       "      <td>3.825000</td>\n",
       "    </tr>\n",
       "    <tr>\n",
       "      <th>Productivity</th>\n",
       "      <td>122722.222222</td>\n",
       "      <td>4.000000</td>\n",
       "    </tr>\n",
       "    <tr>\n",
       "      <th>Shopping</th>\n",
       "      <td>300.000000</td>\n",
       "      <td>4.000000</td>\n",
       "    </tr>\n",
       "    <tr>\n",
       "      <th>Social</th>\n",
       "      <td>10000.000000</td>\n",
       "      <td>4.400000</td>\n",
       "    </tr>\n",
       "    <tr>\n",
       "      <th>Tools</th>\n",
       "      <td>61257.380952</td>\n",
       "      <td>3.850000</td>\n",
       "    </tr>\n",
       "    <tr>\n",
       "      <th>Travel &amp; Local</th>\n",
       "      <td>2750.250000</td>\n",
       "      <td>3.666667</td>\n",
       "    </tr>\n",
       "    <tr>\n",
       "      <th>Video Players &amp; Editors</th>\n",
       "      <td>100.000000</td>\n",
       "      <td>2.500000</td>\n",
       "    </tr>\n",
       "  </tbody>\n",
       "</table>\n",
       "</div>"
      ],
      "text/plain": [
       "                             Downloads    Rating\n",
       "Category                                        \n",
       "Books & Reference         25252.500000  3.725000\n",
       "Business                   5250.000000  3.650000\n",
       "Casual                     6978.812500  3.428571\n",
       "Comics                      500.000000  4.800000\n",
       "Communication               100.000000  3.500000\n",
       "Education                144812.500000  4.037500\n",
       "Entertainment             67720.000000  3.570000\n",
       "Finance                   13220.000000  3.760000\n",
       "Game                       7611.333333  3.700000\n",
       "Health & Fitness          25191.666667  4.133333\n",
       "Libraries & Demo            100.000000  4.200000\n",
       "Lifestyle                  1828.571429  3.883333\n",
       "Maps & Navigation          5262.500000  3.875000\n",
       "Medical                     683.333333  3.066667\n",
       "Music & Audio             10000.000000  3.700000\n",
       "News & Magazines         100000.000000  3.400000\n",
       "Personalization            2232.781818  4.496774\n",
       "Photography                  25.857143  3.825000\n",
       "Productivity             122722.222222  4.000000\n",
       "Shopping                    300.000000  4.000000\n",
       "Social                    10000.000000  4.400000\n",
       "Tools                     61257.380952  3.850000\n",
       "Travel & Local             2750.250000  3.666667\n",
       "Video Players & Editors     100.000000  2.500000"
      ]
     },
     "execution_count": 101,
     "metadata": {},
     "output_type": "execute_result"
    }
   ],
   "source": [
    "App_data.groupby('Category').mean() "
   ]
  },
  {
   "cell_type": "code",
   "execution_count": 102,
   "metadata": {},
   "outputs": [
    {
     "data": {
      "text/plain": [
       "Category\n",
       "Books & Reference           25252.500000\n",
       "Business                     5250.000000\n",
       "Casual                       6978.812500\n",
       "Comics                        500.000000\n",
       "Communication                 100.000000\n",
       "Education                  144812.500000\n",
       "Entertainment               67720.000000\n",
       "Finance                     13220.000000\n",
       "Game                         7611.333333\n",
       "Health & Fitness            25191.666667\n",
       "Libraries & Demo              100.000000\n",
       "Lifestyle                    1828.571429\n",
       "Maps & Navigation            5262.500000\n",
       "Medical                       683.333333\n",
       "Music & Audio               10000.000000\n",
       "News & Magazines           100000.000000\n",
       "Personalization              2232.781818\n",
       "Photography                    25.857143\n",
       "Productivity               122722.222222\n",
       "Shopping                      300.000000\n",
       "Social                      10000.000000\n",
       "Tools                       61257.380952\n",
       "Travel & Local               2750.250000\n",
       "Video Players & Editors       100.000000\n",
       "Name: Downloads, dtype: float64"
      ]
     },
     "execution_count": 102,
     "metadata": {},
     "output_type": "execute_result"
    }
   ],
   "source": [
    "App_data.groupby('Category')['Downloads'].mean()"
   ]
  },
  {
   "cell_type": "code",
   "execution_count": 103,
   "metadata": {},
   "outputs": [
    {
     "data": {
      "text/plain": [
       "Category\n",
       "Books & Reference           25252.500000\n",
       "Business                     5250.000000\n",
       "Casual                       6978.812500\n",
       "Comics                        500.000000\n",
       "Communication                 100.000000\n",
       "Education                  144812.500000\n",
       "Entertainment               67720.000000\n",
       "Finance                     13220.000000\n",
       "Game                         7611.333333\n",
       "Health & Fitness            25191.666667\n",
       "Libraries & Demo              100.000000\n",
       "Lifestyle                    1828.571429\n",
       "Maps & Navigation            5262.500000\n",
       "Medical                       683.333333\n",
       "Music & Audio               10000.000000\n",
       "News & Magazines           100000.000000\n",
       "Personalization              2232.781818\n",
       "Photography                    25.857143\n",
       "Productivity               122722.222222\n",
       "Shopping                      300.000000\n",
       "Social                      10000.000000\n",
       "Tools                       61257.380952\n",
       "Travel & Local               2750.250000\n",
       "Video Players & Editors       100.000000\n",
       "Name: Downloads, dtype: float64"
      ]
     },
     "execution_count": 103,
     "metadata": {},
     "output_type": "execute_result"
    }
   ],
   "source": [
    "App_data.groupby('Category')['Downloads'].agg('mean')"
   ]
  },
  {
   "cell_type": "code",
   "execution_count": 104,
   "metadata": {},
   "outputs": [
    {
     "data": {
      "text/html": [
       "<div>\n",
       "<style>\n",
       "    .dataframe thead tr:only-child th {\n",
       "        text-align: right;\n",
       "    }\n",
       "\n",
       "    .dataframe thead th {\n",
       "        text-align: left;\n",
       "    }\n",
       "\n",
       "    .dataframe tbody tr th {\n",
       "        vertical-align: top;\n",
       "    }\n",
       "</style>\n",
       "<table border=\"1\" class=\"dataframe\">\n",
       "  <thead>\n",
       "    <tr style=\"text-align: right;\">\n",
       "      <th></th>\n",
       "      <th>Downloads</th>\n",
       "    </tr>\n",
       "    <tr>\n",
       "      <th>Category</th>\n",
       "      <th></th>\n",
       "    </tr>\n",
       "  </thead>\n",
       "  <tbody>\n",
       "    <tr>\n",
       "      <th>Books &amp; Reference</th>\n",
       "      <td>25252.500000</td>\n",
       "    </tr>\n",
       "    <tr>\n",
       "      <th>Business</th>\n",
       "      <td>5250.000000</td>\n",
       "    </tr>\n",
       "    <tr>\n",
       "      <th>Casual</th>\n",
       "      <td>6978.812500</td>\n",
       "    </tr>\n",
       "    <tr>\n",
       "      <th>Comics</th>\n",
       "      <td>500.000000</td>\n",
       "    </tr>\n",
       "    <tr>\n",
       "      <th>Communication</th>\n",
       "      <td>100.000000</td>\n",
       "    </tr>\n",
       "    <tr>\n",
       "      <th>Education</th>\n",
       "      <td>144812.500000</td>\n",
       "    </tr>\n",
       "    <tr>\n",
       "      <th>Entertainment</th>\n",
       "      <td>67720.000000</td>\n",
       "    </tr>\n",
       "    <tr>\n",
       "      <th>Finance</th>\n",
       "      <td>13220.000000</td>\n",
       "    </tr>\n",
       "    <tr>\n",
       "      <th>Game</th>\n",
       "      <td>7611.333333</td>\n",
       "    </tr>\n",
       "    <tr>\n",
       "      <th>Health &amp; Fitness</th>\n",
       "      <td>25191.666667</td>\n",
       "    </tr>\n",
       "    <tr>\n",
       "      <th>Libraries &amp; Demo</th>\n",
       "      <td>100.000000</td>\n",
       "    </tr>\n",
       "    <tr>\n",
       "      <th>Lifestyle</th>\n",
       "      <td>1828.571429</td>\n",
       "    </tr>\n",
       "    <tr>\n",
       "      <th>Maps &amp; Navigation</th>\n",
       "      <td>5262.500000</td>\n",
       "    </tr>\n",
       "    <tr>\n",
       "      <th>Medical</th>\n",
       "      <td>683.333333</td>\n",
       "    </tr>\n",
       "    <tr>\n",
       "      <th>Music &amp; Audio</th>\n",
       "      <td>10000.000000</td>\n",
       "    </tr>\n",
       "    <tr>\n",
       "      <th>News &amp; Magazines</th>\n",
       "      <td>100000.000000</td>\n",
       "    </tr>\n",
       "    <tr>\n",
       "      <th>Personalization</th>\n",
       "      <td>2232.781818</td>\n",
       "    </tr>\n",
       "    <tr>\n",
       "      <th>Photography</th>\n",
       "      <td>25.857143</td>\n",
       "    </tr>\n",
       "    <tr>\n",
       "      <th>Productivity</th>\n",
       "      <td>122722.222222</td>\n",
       "    </tr>\n",
       "    <tr>\n",
       "      <th>Shopping</th>\n",
       "      <td>300.000000</td>\n",
       "    </tr>\n",
       "    <tr>\n",
       "      <th>Social</th>\n",
       "      <td>10000.000000</td>\n",
       "    </tr>\n",
       "    <tr>\n",
       "      <th>Tools</th>\n",
       "      <td>61257.380952</td>\n",
       "    </tr>\n",
       "    <tr>\n",
       "      <th>Travel &amp; Local</th>\n",
       "      <td>2750.250000</td>\n",
       "    </tr>\n",
       "    <tr>\n",
       "      <th>Video Players &amp; Editors</th>\n",
       "      <td>100.000000</td>\n",
       "    </tr>\n",
       "  </tbody>\n",
       "</table>\n",
       "</div>"
      ],
      "text/plain": [
       "                             Downloads\n",
       "Category                              \n",
       "Books & Reference         25252.500000\n",
       "Business                   5250.000000\n",
       "Casual                     6978.812500\n",
       "Comics                      500.000000\n",
       "Communication               100.000000\n",
       "Education                144812.500000\n",
       "Entertainment             67720.000000\n",
       "Finance                   13220.000000\n",
       "Game                       7611.333333\n",
       "Health & Fitness          25191.666667\n",
       "Libraries & Demo            100.000000\n",
       "Lifestyle                  1828.571429\n",
       "Maps & Navigation          5262.500000\n",
       "Medical                     683.333333\n",
       "Music & Audio             10000.000000\n",
       "News & Magazines         100000.000000\n",
       "Personalization            2232.781818\n",
       "Photography                  25.857143\n",
       "Productivity             122722.222222\n",
       "Shopping                    300.000000\n",
       "Social                    10000.000000\n",
       "Tools                     61257.380952\n",
       "Travel & Local             2750.250000\n",
       "Video Players & Editors     100.000000"
      ]
     },
     "execution_count": 104,
     "metadata": {},
     "output_type": "execute_result"
    }
   ],
   "source": [
    "App_data.groupby('Category').agg({'Downloads':'mean'})"
   ]
  },
  {
   "cell_type": "code",
   "execution_count": 105,
   "metadata": {},
   "outputs": [
    {
     "data": {
      "text/plain": [
       "pandas.core.groupby.DataFrameGroupBy"
      ]
     },
     "execution_count": 105,
     "metadata": {},
     "output_type": "execute_result"
    }
   ],
   "source": [
    "type(App_data.groupby('Category'))"
   ]
  },
  {
   "cell_type": "raw",
   "metadata": {},
   "source": [
    "this 'pandas.core.groupby.DataFrameGroupBy' is an intermediate object,it has an agg() func to perform aggregations."
   ]
  },
  {
   "cell_type": "raw",
   "metadata": {},
   "source": [
    "now lets's modify the 'Price' column and make it into to two categories 'Free' and 'Paid'"
   ]
  },
  {
   "cell_type": "code",
   "execution_count": 106,
   "metadata": {},
   "outputs": [
    {
     "data": {
      "text/plain": [
       "Free             112\n",
       "CN£¤7.78 Buy      34\n",
       "CN£¤3.93 Buy       9\n",
       "CN£¤5.50 Buy       8\n",
       "CN£¤5.88 Buy       8\n",
       "CN£¤7.71 Buy       7\n",
       "CN£¤6.51 Buy       5\n",
       "CN£¤4.39 Buy       2\n",
       "CN£¤6.58 Buy       1\n",
       "CN£¤4.54 Buy       1\n",
       "CN£¤22.49 Buy      1\n",
       "CN£¤8.81 Buy       1\n",
       "CN£¤23.37 Buy      1\n",
       "CN£¤7.57 Buy       1\n",
       "CN£¤20.23 Buy      1\n",
       "CN£¤13.14 Buy      1\n",
       "CN£¤71.16 Buy      1\n",
       "CN£¤5.45 Buy       1\n",
       "CN£¤5.02 Buy       1\n",
       "CN£¤32.81 Buy      1\n",
       "CN£¤5.29 Buy       1\n",
       "CN£¤23.50 Buy      1\n",
       "CN£¤38.94 Buy      1\n",
       "Name: Price, dtype: int64"
      ]
     },
     "execution_count": 106,
     "metadata": {},
     "output_type": "execute_result"
    }
   ],
   "source": [
    "App_data['Price'].value_counts()"
   ]
  },
  {
   "cell_type": "code",
   "execution_count": 107,
   "metadata": {
    "collapsed": true
   },
   "outputs": [],
   "source": [
    "def alter_Price(price):\n",
    "    if price.startswith('CN'):\n",
    "        price='Paid' \n",
    "        return price\n",
    "    else:\n",
    "        return price"
   ]
  },
  {
   "cell_type": "code",
   "execution_count": 108,
   "metadata": {},
   "outputs": [],
   "source": [
    "App_data['Price']=App_data['Price'].apply(alter_Price)"
   ]
  },
  {
   "cell_type": "code",
   "execution_count": 109,
   "metadata": {},
   "outputs": [
    {
     "data": {
      "text/html": [
       "<div>\n",
       "<style>\n",
       "    .dataframe thead tr:only-child th {\n",
       "        text-align: right;\n",
       "    }\n",
       "\n",
       "    .dataframe thead th {\n",
       "        text-align: left;\n",
       "    }\n",
       "\n",
       "    .dataframe tbody tr th {\n",
       "        vertical-align: top;\n",
       "    }\n",
       "</style>\n",
       "<table border=\"1\" class=\"dataframe\">\n",
       "  <thead>\n",
       "    <tr style=\"text-align: right;\">\n",
       "      <th></th>\n",
       "      <th>Category</th>\n",
       "      <th>Downloads</th>\n",
       "      <th>Rating</th>\n",
       "      <th>Price</th>\n",
       "      <th>Developer</th>\n",
       "    </tr>\n",
       "    <tr>\n",
       "      <th>PkgName</th>\n",
       "      <th></th>\n",
       "      <th></th>\n",
       "      <th></th>\n",
       "      <th></th>\n",
       "      <th></th>\n",
       "    </tr>\n",
       "  </thead>\n",
       "  <tbody>\n",
       "    <tr>\n",
       "      <th>ACMI.GameMasters</th>\n",
       "      <td>Game</td>\n",
       "      <td>1000</td>\n",
       "      <td>3.4</td>\n",
       "      <td>Free</td>\n",
       "      <td>Australian Centre for the Moving Image</td>\n",
       "    </tr>\n",
       "    <tr>\n",
       "      <th>ACinc.ascensionG.T</th>\n",
       "      <td>Game</td>\n",
       "      <td>1000</td>\n",
       "      <td>3.6</td>\n",
       "      <td>Free</td>\n",
       "      <td>Overflow</td>\n",
       "    </tr>\n",
       "    <tr>\n",
       "      <th>AControl.Main</th>\n",
       "      <td>Entertainment</td>\n",
       "      <td>5000</td>\n",
       "      <td>2.9</td>\n",
       "      <td>Free</td>\n",
       "      <td>Claray</td>\n",
       "    </tr>\n",
       "    <tr>\n",
       "      <th>ADW.Alien.Abstract</th>\n",
       "      <td>Personalization</td>\n",
       "      <td>100</td>\n",
       "      <td>4.5</td>\n",
       "      <td>Paid</td>\n",
       "      <td>Alessandro Vuono</td>\n",
       "    </tr>\n",
       "    <tr>\n",
       "      <th>ADW.Black.Carbon</th>\n",
       "      <td>Personalization</td>\n",
       "      <td>100</td>\n",
       "      <td>4.5</td>\n",
       "      <td>Paid</td>\n",
       "      <td>Alessandro Vuono</td>\n",
       "    </tr>\n",
       "  </tbody>\n",
       "</table>\n",
       "</div>"
      ],
      "text/plain": [
       "                           Category  Downloads  Rating Price  \\\n",
       "PkgName                                                        \n",
       "ACMI.GameMasters               Game       1000     3.4  Free   \n",
       "ACinc.ascensionG.T             Game       1000     3.6  Free   \n",
       "AControl.Main         Entertainment       5000     2.9  Free   \n",
       "ADW.Alien.Abstract  Personalization        100     4.5  Paid   \n",
       "ADW.Black.Carbon    Personalization        100     4.5  Paid   \n",
       "\n",
       "                                                 Developer  \n",
       "PkgName                                                     \n",
       "ACMI.GameMasters    Australian Centre for the Moving Image  \n",
       "ACinc.ascensionG.T                                Overflow  \n",
       "AControl.Main                                       Claray  \n",
       "ADW.Alien.Abstract                        Alessandro Vuono  \n",
       "ADW.Black.Carbon                          Alessandro Vuono  "
      ]
     },
     "execution_count": 109,
     "metadata": {},
     "output_type": "execute_result"
    }
   ],
   "source": [
    "App_data.head()"
   ]
  },
  {
   "cell_type": "code",
   "execution_count": 112,
   "metadata": {},
   "outputs": [
    {
     "data": {
      "text/plain": [
       "Free    0.56\n",
       "Paid    0.44\n",
       "Name: Price, dtype: float64"
      ]
     },
     "execution_count": 112,
     "metadata": {},
     "output_type": "execute_result"
    }
   ],
   "source": [
    "App_data.Price.value_counts(normalize=True)"
   ]
  },
  {
   "cell_type": "raw",
   "metadata": {},
   "source": [
    "now, we want to know the average downloads for different categories and different prices."
   ]
  },
  {
   "cell_type": "code",
   "execution_count": 114,
   "metadata": {},
   "outputs": [
    {
     "data": {
      "text/html": [
       "<div>\n",
       "<style>\n",
       "    .dataframe thead tr:only-child th {\n",
       "        text-align: right;\n",
       "    }\n",
       "\n",
       "    .dataframe thead th {\n",
       "        text-align: left;\n",
       "    }\n",
       "\n",
       "    .dataframe tbody tr th {\n",
       "        vertical-align: top;\n",
       "    }\n",
       "</style>\n",
       "<table border=\"1\" class=\"dataframe\">\n",
       "  <thead>\n",
       "    <tr style=\"text-align: right;\">\n",
       "      <th></th>\n",
       "      <th></th>\n",
       "      <th>Downloads</th>\n",
       "    </tr>\n",
       "    <tr>\n",
       "      <th>Category</th>\n",
       "      <th>Price</th>\n",
       "      <th></th>\n",
       "    </tr>\n",
       "  </thead>\n",
       "  <tbody>\n",
       "    <tr>\n",
       "      <th rowspan=\"2\" valign=\"top\">Books &amp; Reference</th>\n",
       "      <th>Free</th>\n",
       "      <td>33666.666667</td>\n",
       "    </tr>\n",
       "    <tr>\n",
       "      <th>Paid</th>\n",
       "      <td>10.000000</td>\n",
       "    </tr>\n",
       "    <tr>\n",
       "      <th>Business</th>\n",
       "      <th>Free</th>\n",
       "      <td>5250.000000</td>\n",
       "    </tr>\n",
       "    <tr>\n",
       "      <th rowspan=\"2\" valign=\"top\">Casual</th>\n",
       "      <th>Free</th>\n",
       "      <td>18600.000000</td>\n",
       "    </tr>\n",
       "    <tr>\n",
       "      <th>Paid</th>\n",
       "      <td>6.100000</td>\n",
       "    </tr>\n",
       "    <tr>\n",
       "      <th>Comics</th>\n",
       "      <th>Free</th>\n",
       "      <td>500.000000</td>\n",
       "    </tr>\n",
       "    <tr>\n",
       "      <th>Communication</th>\n",
       "      <th>Paid</th>\n",
       "      <td>100.000000</td>\n",
       "    </tr>\n",
       "    <tr>\n",
       "      <th>Education</th>\n",
       "      <th>Free</th>\n",
       "      <td>144812.500000</td>\n",
       "    </tr>\n",
       "    <tr>\n",
       "      <th>Entertainment</th>\n",
       "      <th>Free</th>\n",
       "      <td>67720.000000</td>\n",
       "    </tr>\n",
       "    <tr>\n",
       "      <th rowspan=\"2\" valign=\"top\">Finance</th>\n",
       "      <th>Free</th>\n",
       "      <td>16500.000000</td>\n",
       "    </tr>\n",
       "    <tr>\n",
       "      <th>Paid</th>\n",
       "      <td>100.000000</td>\n",
       "    </tr>\n",
       "    <tr>\n",
       "      <th rowspan=\"2\" valign=\"top\">Game</th>\n",
       "      <th>Free</th>\n",
       "      <td>10963.888889</td>\n",
       "    </tr>\n",
       "    <tr>\n",
       "      <th>Paid</th>\n",
       "      <td>906.222222</td>\n",
       "    </tr>\n",
       "    <tr>\n",
       "      <th rowspan=\"2\" valign=\"top\">Health &amp; Fitness</th>\n",
       "      <th>Free</th>\n",
       "      <td>37637.500000</td>\n",
       "    </tr>\n",
       "    <tr>\n",
       "      <th>Paid</th>\n",
       "      <td>300.000000</td>\n",
       "    </tr>\n",
       "    <tr>\n",
       "      <th>Libraries &amp; Demo</th>\n",
       "      <th>Free</th>\n",
       "      <td>100.000000</td>\n",
       "    </tr>\n",
       "    <tr>\n",
       "      <th rowspan=\"2\" valign=\"top\">Lifestyle</th>\n",
       "      <th>Free</th>\n",
       "      <td>2116.666667</td>\n",
       "    </tr>\n",
       "    <tr>\n",
       "      <th>Paid</th>\n",
       "      <td>100.000000</td>\n",
       "    </tr>\n",
       "    <tr>\n",
       "      <th>Maps &amp; Navigation</th>\n",
       "      <th>Free</th>\n",
       "      <td>5262.500000</td>\n",
       "    </tr>\n",
       "    <tr>\n",
       "      <th rowspan=\"2\" valign=\"top\">Medical</th>\n",
       "      <th>Free</th>\n",
       "      <td>1000.000000</td>\n",
       "    </tr>\n",
       "    <tr>\n",
       "      <th>Paid</th>\n",
       "      <td>50.000000</td>\n",
       "    </tr>\n",
       "    <tr>\n",
       "      <th>Music &amp; Audio</th>\n",
       "      <th>Free</th>\n",
       "      <td>10000.000000</td>\n",
       "    </tr>\n",
       "    <tr>\n",
       "      <th>News &amp; Magazines</th>\n",
       "      <th>Free</th>\n",
       "      <td>100000.000000</td>\n",
       "    </tr>\n",
       "    <tr>\n",
       "      <th rowspan=\"2\" valign=\"top\">Personalization</th>\n",
       "      <th>Free</th>\n",
       "      <td>30000.000000</td>\n",
       "    </tr>\n",
       "    <tr>\n",
       "      <th>Paid</th>\n",
       "      <td>54.960784</td>\n",
       "    </tr>\n",
       "    <tr>\n",
       "      <th>Photography</th>\n",
       "      <th>Paid</th>\n",
       "      <td>25.857143</td>\n",
       "    </tr>\n",
       "    <tr>\n",
       "      <th rowspan=\"2\" valign=\"top\">Productivity</th>\n",
       "      <th>Free</th>\n",
       "      <td>150571.428571</td>\n",
       "    </tr>\n",
       "    <tr>\n",
       "      <th>Paid</th>\n",
       "      <td>25250.000000</td>\n",
       "    </tr>\n",
       "    <tr>\n",
       "      <th>Shopping</th>\n",
       "      <th>Free</th>\n",
       "      <td>300.000000</td>\n",
       "    </tr>\n",
       "    <tr>\n",
       "      <th>Social</th>\n",
       "      <th>Free</th>\n",
       "      <td>10000.000000</td>\n",
       "    </tr>\n",
       "    <tr>\n",
       "      <th rowspan=\"2\" valign=\"top\">Tools</th>\n",
       "      <th>Free</th>\n",
       "      <td>67702.631579</td>\n",
       "    </tr>\n",
       "    <tr>\n",
       "      <th>Paid</th>\n",
       "      <td>27.500000</td>\n",
       "    </tr>\n",
       "    <tr>\n",
       "      <th>Travel &amp; Local</th>\n",
       "      <th>Free</th>\n",
       "      <td>2750.250000</td>\n",
       "    </tr>\n",
       "    <tr>\n",
       "      <th>Video Players &amp; Editors</th>\n",
       "      <th>Free</th>\n",
       "      <td>100.000000</td>\n",
       "    </tr>\n",
       "  </tbody>\n",
       "</table>\n",
       "</div>"
      ],
      "text/plain": [
       "                                   Downloads\n",
       "Category                Price               \n",
       "Books & Reference       Free    33666.666667\n",
       "                        Paid       10.000000\n",
       "Business                Free     5250.000000\n",
       "Casual                  Free    18600.000000\n",
       "                        Paid        6.100000\n",
       "Comics                  Free      500.000000\n",
       "Communication           Paid      100.000000\n",
       "Education               Free   144812.500000\n",
       "Entertainment           Free    67720.000000\n",
       "Finance                 Free    16500.000000\n",
       "                        Paid      100.000000\n",
       "Game                    Free    10963.888889\n",
       "                        Paid      906.222222\n",
       "Health & Fitness        Free    37637.500000\n",
       "                        Paid      300.000000\n",
       "Libraries & Demo        Free      100.000000\n",
       "Lifestyle               Free     2116.666667\n",
       "                        Paid      100.000000\n",
       "Maps & Navigation       Free     5262.500000\n",
       "Medical                 Free     1000.000000\n",
       "                        Paid       50.000000\n",
       "Music & Audio           Free    10000.000000\n",
       "News & Magazines        Free   100000.000000\n",
       "Personalization         Free    30000.000000\n",
       "                        Paid       54.960784\n",
       "Photography             Paid       25.857143\n",
       "Productivity            Free   150571.428571\n",
       "                        Paid    25250.000000\n",
       "Shopping                Free      300.000000\n",
       "Social                  Free    10000.000000\n",
       "Tools                   Free    67702.631579\n",
       "                        Paid       27.500000\n",
       "Travel & Local          Free     2750.250000\n",
       "Video Players & Editors Free      100.000000"
      ]
     },
     "execution_count": 114,
     "metadata": {},
     "output_type": "execute_result"
    }
   ],
   "source": [
    "App_data.groupby(['Category','Price']).agg({'Downloads':'mean'})"
   ]
  },
  {
   "cell_type": "raw",
   "metadata": {},
   "source": [
    "and now we want more information"
   ]
  },
  {
   "cell_type": "code",
   "execution_count": 115,
   "metadata": {},
   "outputs": [
    {
     "data": {
      "text/html": [
       "<div>\n",
       "<style>\n",
       "    .dataframe thead tr:only-child th {\n",
       "        text-align: right;\n",
       "    }\n",
       "\n",
       "    .dataframe thead th {\n",
       "        text-align: left;\n",
       "    }\n",
       "\n",
       "    .dataframe tbody tr th {\n",
       "        vertical-align: top;\n",
       "    }\n",
       "</style>\n",
       "<table border=\"1\" class=\"dataframe\">\n",
       "  <thead>\n",
       "    <tr>\n",
       "      <th></th>\n",
       "      <th></th>\n",
       "      <th colspan=\"2\" halign=\"left\">Downloads</th>\n",
       "      <th colspan=\"2\" halign=\"left\">Rating</th>\n",
       "    </tr>\n",
       "    <tr>\n",
       "      <th></th>\n",
       "      <th></th>\n",
       "      <th>max</th>\n",
       "      <th>mean</th>\n",
       "      <th>max</th>\n",
       "      <th>mean</th>\n",
       "    </tr>\n",
       "    <tr>\n",
       "      <th>Category</th>\n",
       "      <th>Price</th>\n",
       "      <th></th>\n",
       "      <th></th>\n",
       "      <th></th>\n",
       "      <th></th>\n",
       "    </tr>\n",
       "  </thead>\n",
       "  <tbody>\n",
       "    <tr>\n",
       "      <th rowspan=\"2\" valign=\"top\">Books &amp; Reference</th>\n",
       "      <th>Free</th>\n",
       "      <td>50000</td>\n",
       "      <td>33666.666667</td>\n",
       "      <td>4.3</td>\n",
       "      <td>3.800000</td>\n",
       "    </tr>\n",
       "    <tr>\n",
       "      <th>Paid</th>\n",
       "      <td>10</td>\n",
       "      <td>10.000000</td>\n",
       "      <td>3.5</td>\n",
       "      <td>3.500000</td>\n",
       "    </tr>\n",
       "    <tr>\n",
       "      <th>Business</th>\n",
       "      <th>Free</th>\n",
       "      <td>10000</td>\n",
       "      <td>5250.000000</td>\n",
       "      <td>4.3</td>\n",
       "      <td>3.650000</td>\n",
       "    </tr>\n",
       "    <tr>\n",
       "      <th rowspan=\"2\" valign=\"top\">Casual</th>\n",
       "      <th>Free</th>\n",
       "      <td>50000</td>\n",
       "      <td>18600.000000</td>\n",
       "      <td>5.0</td>\n",
       "      <td>3.833333</td>\n",
       "    </tr>\n",
       "    <tr>\n",
       "      <th>Paid</th>\n",
       "      <td>50</td>\n",
       "      <td>6.100000</td>\n",
       "      <td>1.0</td>\n",
       "      <td>1.000000</td>\n",
       "    </tr>\n",
       "    <tr>\n",
       "      <th>Comics</th>\n",
       "      <th>Free</th>\n",
       "      <td>500</td>\n",
       "      <td>500.000000</td>\n",
       "      <td>4.8</td>\n",
       "      <td>4.800000</td>\n",
       "    </tr>\n",
       "    <tr>\n",
       "      <th>Communication</th>\n",
       "      <th>Paid</th>\n",
       "      <td>100</td>\n",
       "      <td>100.000000</td>\n",
       "      <td>3.5</td>\n",
       "      <td>3.500000</td>\n",
       "    </tr>\n",
       "    <tr>\n",
       "      <th>Education</th>\n",
       "      <th>Free</th>\n",
       "      <td>1000000</td>\n",
       "      <td>144812.500000</td>\n",
       "      <td>5.0</td>\n",
       "      <td>4.037500</td>\n",
       "    </tr>\n",
       "    <tr>\n",
       "      <th>Entertainment</th>\n",
       "      <th>Free</th>\n",
       "      <td>500000</td>\n",
       "      <td>67720.000000</td>\n",
       "      <td>5.0</td>\n",
       "      <td>3.570000</td>\n",
       "    </tr>\n",
       "    <tr>\n",
       "      <th rowspan=\"2\" valign=\"top\">Finance</th>\n",
       "      <th>Free</th>\n",
       "      <td>50000</td>\n",
       "      <td>16500.000000</td>\n",
       "      <td>4.8</td>\n",
       "      <td>3.450000</td>\n",
       "    </tr>\n",
       "    <tr>\n",
       "      <th>Paid</th>\n",
       "      <td>100</td>\n",
       "      <td>100.000000</td>\n",
       "      <td>5.0</td>\n",
       "      <td>5.000000</td>\n",
       "    </tr>\n",
       "    <tr>\n",
       "      <th rowspan=\"2\" valign=\"top\">Game</th>\n",
       "      <th>Free</th>\n",
       "      <td>100000</td>\n",
       "      <td>10963.888889</td>\n",
       "      <td>5.0</td>\n",
       "      <td>3.694444</td>\n",
       "    </tr>\n",
       "    <tr>\n",
       "      <th>Paid</th>\n",
       "      <td>5000</td>\n",
       "      <td>906.222222</td>\n",
       "      <td>5.0</td>\n",
       "      <td>3.714286</td>\n",
       "    </tr>\n",
       "    <tr>\n",
       "      <th rowspan=\"2\" valign=\"top\">Health &amp; Fitness</th>\n",
       "      <th>Free</th>\n",
       "      <td>100000</td>\n",
       "      <td>37637.500000</td>\n",
       "      <td>5.0</td>\n",
       "      <td>4.225000</td>\n",
       "    </tr>\n",
       "    <tr>\n",
       "      <th>Paid</th>\n",
       "      <td>500</td>\n",
       "      <td>300.000000</td>\n",
       "      <td>4.4</td>\n",
       "      <td>3.950000</td>\n",
       "    </tr>\n",
       "    <tr>\n",
       "      <th>Libraries &amp; Demo</th>\n",
       "      <th>Free</th>\n",
       "      <td>100</td>\n",
       "      <td>100.000000</td>\n",
       "      <td>4.2</td>\n",
       "      <td>4.200000</td>\n",
       "    </tr>\n",
       "    <tr>\n",
       "      <th rowspan=\"2\" valign=\"top\">Lifestyle</th>\n",
       "      <th>Free</th>\n",
       "      <td>10000</td>\n",
       "      <td>2116.666667</td>\n",
       "      <td>5.0</td>\n",
       "      <td>4.220000</td>\n",
       "    </tr>\n",
       "    <tr>\n",
       "      <th>Paid</th>\n",
       "      <td>100</td>\n",
       "      <td>100.000000</td>\n",
       "      <td>2.2</td>\n",
       "      <td>2.200000</td>\n",
       "    </tr>\n",
       "    <tr>\n",
       "      <th>Maps &amp; Navigation</th>\n",
       "      <th>Free</th>\n",
       "      <td>10000</td>\n",
       "      <td>5262.500000</td>\n",
       "      <td>5.0</td>\n",
       "      <td>3.875000</td>\n",
       "    </tr>\n",
       "    <tr>\n",
       "      <th rowspan=\"2\" valign=\"top\">Medical</th>\n",
       "      <th>Free</th>\n",
       "      <td>1000</td>\n",
       "      <td>1000.000000</td>\n",
       "      <td>4.1</td>\n",
       "      <td>4.100000</td>\n",
       "    </tr>\n",
       "    <tr>\n",
       "      <th>Paid</th>\n",
       "      <td>50</td>\n",
       "      <td>50.000000</td>\n",
       "      <td>1.0</td>\n",
       "      <td>1.000000</td>\n",
       "    </tr>\n",
       "    <tr>\n",
       "      <th>Music &amp; Audio</th>\n",
       "      <th>Free</th>\n",
       "      <td>10000</td>\n",
       "      <td>10000.000000</td>\n",
       "      <td>4.0</td>\n",
       "      <td>3.700000</td>\n",
       "    </tr>\n",
       "    <tr>\n",
       "      <th>News &amp; Magazines</th>\n",
       "      <th>Free</th>\n",
       "      <td>100000</td>\n",
       "      <td>100000.000000</td>\n",
       "      <td>3.4</td>\n",
       "      <td>3.400000</td>\n",
       "    </tr>\n",
       "    <tr>\n",
       "      <th rowspan=\"2\" valign=\"top\">Personalization</th>\n",
       "      <th>Free</th>\n",
       "      <td>50000</td>\n",
       "      <td>30000.000000</td>\n",
       "      <td>4.4</td>\n",
       "      <td>4.125000</td>\n",
       "    </tr>\n",
       "    <tr>\n",
       "      <th>Paid</th>\n",
       "      <td>500</td>\n",
       "      <td>54.960784</td>\n",
       "      <td>5.0</td>\n",
       "      <td>4.551852</td>\n",
       "    </tr>\n",
       "    <tr>\n",
       "      <th>Photography</th>\n",
       "      <th>Paid</th>\n",
       "      <td>100</td>\n",
       "      <td>25.857143</td>\n",
       "      <td>5.0</td>\n",
       "      <td>3.825000</td>\n",
       "    </tr>\n",
       "    <tr>\n",
       "      <th rowspan=\"2\" valign=\"top\">Productivity</th>\n",
       "      <th>Free</th>\n",
       "      <td>1000000</td>\n",
       "      <td>150571.428571</td>\n",
       "      <td>4.2</td>\n",
       "      <td>3.957143</td>\n",
       "    </tr>\n",
       "    <tr>\n",
       "      <th>Paid</th>\n",
       "      <td>50000</td>\n",
       "      <td>25250.000000</td>\n",
       "      <td>4.2</td>\n",
       "      <td>4.150000</td>\n",
       "    </tr>\n",
       "    <tr>\n",
       "      <th>Shopping</th>\n",
       "      <th>Free</th>\n",
       "      <td>500</td>\n",
       "      <td>300.000000</td>\n",
       "      <td>4.0</td>\n",
       "      <td>4.000000</td>\n",
       "    </tr>\n",
       "    <tr>\n",
       "      <th>Social</th>\n",
       "      <th>Free</th>\n",
       "      <td>10000</td>\n",
       "      <td>10000.000000</td>\n",
       "      <td>4.4</td>\n",
       "      <td>4.400000</td>\n",
       "    </tr>\n",
       "    <tr>\n",
       "      <th rowspan=\"2\" valign=\"top\">Tools</th>\n",
       "      <th>Free</th>\n",
       "      <td>500000</td>\n",
       "      <td>67702.631579</td>\n",
       "      <td>5.0</td>\n",
       "      <td>3.850000</td>\n",
       "    </tr>\n",
       "    <tr>\n",
       "      <th>Paid</th>\n",
       "      <td>50</td>\n",
       "      <td>27.500000</td>\n",
       "      <td>NaN</td>\n",
       "      <td>NaN</td>\n",
       "    </tr>\n",
       "    <tr>\n",
       "      <th>Travel &amp; Local</th>\n",
       "      <th>Free</th>\n",
       "      <td>5000</td>\n",
       "      <td>2750.250000</td>\n",
       "      <td>4.2</td>\n",
       "      <td>3.666667</td>\n",
       "    </tr>\n",
       "    <tr>\n",
       "      <th>Video Players &amp; Editors</th>\n",
       "      <th>Free</th>\n",
       "      <td>100</td>\n",
       "      <td>100.000000</td>\n",
       "      <td>2.5</td>\n",
       "      <td>2.500000</td>\n",
       "    </tr>\n",
       "  </tbody>\n",
       "</table>\n",
       "</div>"
      ],
      "text/plain": [
       "                              Downloads                Rating          \n",
       "                                    max           mean    max      mean\n",
       "Category                Price                                          \n",
       "Books & Reference       Free      50000   33666.666667    4.3  3.800000\n",
       "                        Paid         10      10.000000    3.5  3.500000\n",
       "Business                Free      10000    5250.000000    4.3  3.650000\n",
       "Casual                  Free      50000   18600.000000    5.0  3.833333\n",
       "                        Paid         50       6.100000    1.0  1.000000\n",
       "Comics                  Free        500     500.000000    4.8  4.800000\n",
       "Communication           Paid        100     100.000000    3.5  3.500000\n",
       "Education               Free    1000000  144812.500000    5.0  4.037500\n",
       "Entertainment           Free     500000   67720.000000    5.0  3.570000\n",
       "Finance                 Free      50000   16500.000000    4.8  3.450000\n",
       "                        Paid        100     100.000000    5.0  5.000000\n",
       "Game                    Free     100000   10963.888889    5.0  3.694444\n",
       "                        Paid       5000     906.222222    5.0  3.714286\n",
       "Health & Fitness        Free     100000   37637.500000    5.0  4.225000\n",
       "                        Paid        500     300.000000    4.4  3.950000\n",
       "Libraries & Demo        Free        100     100.000000    4.2  4.200000\n",
       "Lifestyle               Free      10000    2116.666667    5.0  4.220000\n",
       "                        Paid        100     100.000000    2.2  2.200000\n",
       "Maps & Navigation       Free      10000    5262.500000    5.0  3.875000\n",
       "Medical                 Free       1000    1000.000000    4.1  4.100000\n",
       "                        Paid         50      50.000000    1.0  1.000000\n",
       "Music & Audio           Free      10000   10000.000000    4.0  3.700000\n",
       "News & Magazines        Free     100000  100000.000000    3.4  3.400000\n",
       "Personalization         Free      50000   30000.000000    4.4  4.125000\n",
       "                        Paid        500      54.960784    5.0  4.551852\n",
       "Photography             Paid        100      25.857143    5.0  3.825000\n",
       "Productivity            Free    1000000  150571.428571    4.2  3.957143\n",
       "                        Paid      50000   25250.000000    4.2  4.150000\n",
       "Shopping                Free        500     300.000000    4.0  4.000000\n",
       "Social                  Free      10000   10000.000000    4.4  4.400000\n",
       "Tools                   Free     500000   67702.631579    5.0  3.850000\n",
       "                        Paid         50      27.500000    NaN       NaN\n",
       "Travel & Local          Free       5000    2750.250000    4.2  3.666667\n",
       "Video Players & Editors Free        100     100.000000    2.5  2.500000"
      ]
     },
     "execution_count": 115,
     "metadata": {},
     "output_type": "execute_result"
    }
   ],
   "source": [
    "App_data.groupby(['Category','Price'])['Downloads','Rating'].agg(['max','mean'])"
   ]
  },
  {
   "cell_type": "raw",
   "metadata": {},
   "source": [
    "when things get complicated, the better way is to build a mapping dictionary and pass it to the agg() func.\n",
    "data.groupby(['col1','col2']).agg({'col3':['mean','max'],\n",
    "                                   'col4':['mean','min']})"
   ]
  },
  {
   "cell_type": "code",
   "execution_count": 117,
   "metadata": {},
   "outputs": [],
   "source": [
    "App_metadata_info=App_data.groupby(['Category','Price']).agg({'Downloads':['mean','max'],\n",
    "                                           'Rating':['mean','max']})"
   ]
  },
  {
   "cell_type": "code",
   "execution_count": 118,
   "metadata": {},
   "outputs": [
    {
     "data": {
      "text/html": [
       "<div>\n",
       "<style>\n",
       "    .dataframe thead tr:only-child th {\n",
       "        text-align: right;\n",
       "    }\n",
       "\n",
       "    .dataframe thead th {\n",
       "        text-align: left;\n",
       "    }\n",
       "\n",
       "    .dataframe tbody tr th {\n",
       "        vertical-align: top;\n",
       "    }\n",
       "</style>\n",
       "<table border=\"1\" class=\"dataframe\">\n",
       "  <thead>\n",
       "    <tr>\n",
       "      <th></th>\n",
       "      <th></th>\n",
       "      <th colspan=\"2\" halign=\"left\">Downloads</th>\n",
       "      <th colspan=\"2\" halign=\"left\">Rating</th>\n",
       "    </tr>\n",
       "    <tr>\n",
       "      <th></th>\n",
       "      <th></th>\n",
       "      <th>mean</th>\n",
       "      <th>max</th>\n",
       "      <th>mean</th>\n",
       "      <th>max</th>\n",
       "    </tr>\n",
       "    <tr>\n",
       "      <th>Category</th>\n",
       "      <th>Price</th>\n",
       "      <th></th>\n",
       "      <th></th>\n",
       "      <th></th>\n",
       "      <th></th>\n",
       "    </tr>\n",
       "  </thead>\n",
       "  <tbody>\n",
       "    <tr>\n",
       "      <th rowspan=\"2\" valign=\"top\">Books &amp; Reference</th>\n",
       "      <th>Free</th>\n",
       "      <td>33666.666667</td>\n",
       "      <td>50000</td>\n",
       "      <td>3.800000</td>\n",
       "      <td>4.3</td>\n",
       "    </tr>\n",
       "    <tr>\n",
       "      <th>Paid</th>\n",
       "      <td>10.000000</td>\n",
       "      <td>10</td>\n",
       "      <td>3.500000</td>\n",
       "      <td>3.5</td>\n",
       "    </tr>\n",
       "    <tr>\n",
       "      <th>Business</th>\n",
       "      <th>Free</th>\n",
       "      <td>5250.000000</td>\n",
       "      <td>10000</td>\n",
       "      <td>3.650000</td>\n",
       "      <td>4.3</td>\n",
       "    </tr>\n",
       "    <tr>\n",
       "      <th rowspan=\"2\" valign=\"top\">Casual</th>\n",
       "      <th>Free</th>\n",
       "      <td>18600.000000</td>\n",
       "      <td>50000</td>\n",
       "      <td>3.833333</td>\n",
       "      <td>5.0</td>\n",
       "    </tr>\n",
       "    <tr>\n",
       "      <th>Paid</th>\n",
       "      <td>6.100000</td>\n",
       "      <td>50</td>\n",
       "      <td>1.000000</td>\n",
       "      <td>1.0</td>\n",
       "    </tr>\n",
       "    <tr>\n",
       "      <th>Comics</th>\n",
       "      <th>Free</th>\n",
       "      <td>500.000000</td>\n",
       "      <td>500</td>\n",
       "      <td>4.800000</td>\n",
       "      <td>4.8</td>\n",
       "    </tr>\n",
       "    <tr>\n",
       "      <th>Communication</th>\n",
       "      <th>Paid</th>\n",
       "      <td>100.000000</td>\n",
       "      <td>100</td>\n",
       "      <td>3.500000</td>\n",
       "      <td>3.5</td>\n",
       "    </tr>\n",
       "    <tr>\n",
       "      <th>Education</th>\n",
       "      <th>Free</th>\n",
       "      <td>144812.500000</td>\n",
       "      <td>1000000</td>\n",
       "      <td>4.037500</td>\n",
       "      <td>5.0</td>\n",
       "    </tr>\n",
       "    <tr>\n",
       "      <th>Entertainment</th>\n",
       "      <th>Free</th>\n",
       "      <td>67720.000000</td>\n",
       "      <td>500000</td>\n",
       "      <td>3.570000</td>\n",
       "      <td>5.0</td>\n",
       "    </tr>\n",
       "    <tr>\n",
       "      <th>Finance</th>\n",
       "      <th>Free</th>\n",
       "      <td>16500.000000</td>\n",
       "      <td>50000</td>\n",
       "      <td>3.450000</td>\n",
       "      <td>4.8</td>\n",
       "    </tr>\n",
       "  </tbody>\n",
       "</table>\n",
       "</div>"
      ],
      "text/plain": [
       "                             Downloads             Rating     \n",
       "                                  mean      max      mean  max\n",
       "Category          Price                                       \n",
       "Books & Reference Free    33666.666667    50000  3.800000  4.3\n",
       "                  Paid       10.000000       10  3.500000  3.5\n",
       "Business          Free     5250.000000    10000  3.650000  4.3\n",
       "Casual            Free    18600.000000    50000  3.833333  5.0\n",
       "                  Paid        6.100000       50  1.000000  1.0\n",
       "Comics            Free      500.000000      500  4.800000  4.8\n",
       "Communication     Paid      100.000000      100  3.500000  3.5\n",
       "Education         Free   144812.500000  1000000  4.037500  5.0\n",
       "Entertainment     Free    67720.000000   500000  3.570000  5.0\n",
       "Finance           Free    16500.000000    50000  3.450000  4.8"
      ]
     },
     "execution_count": 118,
     "metadata": {},
     "output_type": "execute_result"
    }
   ],
   "source": [
    "App_metadata_info.head(10)"
   ]
  },
  {
   "cell_type": "code",
   "execution_count": 120,
   "metadata": {},
   "outputs": [
    {
     "data": {
      "text/plain": [
       "Index(['Downloads', 'Downloads', 'Rating', 'Rating'], dtype='object')"
      ]
     },
     "execution_count": 120,
     "metadata": {},
     "output_type": "execute_result"
    }
   ],
   "source": [
    "col_level1=App_metadata_info.columns.get_level_values(0)\n",
    "col_level1"
   ]
  },
  {
   "cell_type": "code",
   "execution_count": 121,
   "metadata": {},
   "outputs": [
    {
     "data": {
      "text/plain": [
       "Index(['mean', 'max', 'mean', 'max'], dtype='object')"
      ]
     },
     "execution_count": 121,
     "metadata": {},
     "output_type": "execute_result"
    }
   ],
   "source": [
    "col_level2=App_metadata_info.columns.get_level_values(1)\n",
    "col_level2"
   ]
  },
  {
   "cell_type": "code",
   "execution_count": 123,
   "metadata": {},
   "outputs": [
    {
     "data": {
      "text/html": [
       "<div>\n",
       "<style>\n",
       "    .dataframe thead tr:only-child th {\n",
       "        text-align: right;\n",
       "    }\n",
       "\n",
       "    .dataframe thead th {\n",
       "        text-align: left;\n",
       "    }\n",
       "\n",
       "    .dataframe tbody tr th {\n",
       "        vertical-align: top;\n",
       "    }\n",
       "</style>\n",
       "<table border=\"1\" class=\"dataframe\">\n",
       "  <thead>\n",
       "    <tr style=\"text-align: right;\">\n",
       "      <th></th>\n",
       "      <th></th>\n",
       "      <th>Downloads_mean</th>\n",
       "      <th>Downloads_max</th>\n",
       "      <th>Rating_mean</th>\n",
       "      <th>Rating_max</th>\n",
       "    </tr>\n",
       "    <tr>\n",
       "      <th>Category</th>\n",
       "      <th>Price</th>\n",
       "      <th></th>\n",
       "      <th></th>\n",
       "      <th></th>\n",
       "      <th></th>\n",
       "    </tr>\n",
       "  </thead>\n",
       "  <tbody>\n",
       "    <tr>\n",
       "      <th rowspan=\"2\" valign=\"top\">Books &amp; Reference</th>\n",
       "      <th>Free</th>\n",
       "      <td>33666.666667</td>\n",
       "      <td>50000</td>\n",
       "      <td>3.800000</td>\n",
       "      <td>4.3</td>\n",
       "    </tr>\n",
       "    <tr>\n",
       "      <th>Paid</th>\n",
       "      <td>10.000000</td>\n",
       "      <td>10</td>\n",
       "      <td>3.500000</td>\n",
       "      <td>3.5</td>\n",
       "    </tr>\n",
       "    <tr>\n",
       "      <th>Business</th>\n",
       "      <th>Free</th>\n",
       "      <td>5250.000000</td>\n",
       "      <td>10000</td>\n",
       "      <td>3.650000</td>\n",
       "      <td>4.3</td>\n",
       "    </tr>\n",
       "    <tr>\n",
       "      <th rowspan=\"2\" valign=\"top\">Casual</th>\n",
       "      <th>Free</th>\n",
       "      <td>18600.000000</td>\n",
       "      <td>50000</td>\n",
       "      <td>3.833333</td>\n",
       "      <td>5.0</td>\n",
       "    </tr>\n",
       "    <tr>\n",
       "      <th>Paid</th>\n",
       "      <td>6.100000</td>\n",
       "      <td>50</td>\n",
       "      <td>1.000000</td>\n",
       "      <td>1.0</td>\n",
       "    </tr>\n",
       "    <tr>\n",
       "      <th>Comics</th>\n",
       "      <th>Free</th>\n",
       "      <td>500.000000</td>\n",
       "      <td>500</td>\n",
       "      <td>4.800000</td>\n",
       "      <td>4.8</td>\n",
       "    </tr>\n",
       "    <tr>\n",
       "      <th>Communication</th>\n",
       "      <th>Paid</th>\n",
       "      <td>100.000000</td>\n",
       "      <td>100</td>\n",
       "      <td>3.500000</td>\n",
       "      <td>3.5</td>\n",
       "    </tr>\n",
       "    <tr>\n",
       "      <th>Education</th>\n",
       "      <th>Free</th>\n",
       "      <td>144812.500000</td>\n",
       "      <td>1000000</td>\n",
       "      <td>4.037500</td>\n",
       "      <td>5.0</td>\n",
       "    </tr>\n",
       "    <tr>\n",
       "      <th>Entertainment</th>\n",
       "      <th>Free</th>\n",
       "      <td>67720.000000</td>\n",
       "      <td>500000</td>\n",
       "      <td>3.570000</td>\n",
       "      <td>5.0</td>\n",
       "    </tr>\n",
       "    <tr>\n",
       "      <th>Finance</th>\n",
       "      <th>Free</th>\n",
       "      <td>16500.000000</td>\n",
       "      <td>50000</td>\n",
       "      <td>3.450000</td>\n",
       "      <td>4.8</td>\n",
       "    </tr>\n",
       "  </tbody>\n",
       "</table>\n",
       "</div>"
      ],
      "text/plain": [
       "                         Downloads_mean  Downloads_max  Rating_mean  \\\n",
       "Category          Price                                               \n",
       "Books & Reference Free     33666.666667          50000     3.800000   \n",
       "                  Paid        10.000000             10     3.500000   \n",
       "Business          Free      5250.000000          10000     3.650000   \n",
       "Casual            Free     18600.000000          50000     3.833333   \n",
       "                  Paid         6.100000             50     1.000000   \n",
       "Comics            Free       500.000000            500     4.800000   \n",
       "Communication     Paid       100.000000            100     3.500000   \n",
       "Education         Free    144812.500000        1000000     4.037500   \n",
       "Entertainment     Free     67720.000000         500000     3.570000   \n",
       "Finance           Free     16500.000000          50000     3.450000   \n",
       "\n",
       "                         Rating_max  \n",
       "Category          Price              \n",
       "Books & Reference Free          4.3  \n",
       "                  Paid          3.5  \n",
       "Business          Free          4.3  \n",
       "Casual            Free          5.0  \n",
       "                  Paid          1.0  \n",
       "Comics            Free          4.8  \n",
       "Communication     Paid          3.5  \n",
       "Education         Free          5.0  \n",
       "Entertainment     Free          5.0  \n",
       "Finance           Free          4.8  "
      ]
     },
     "execution_count": 123,
     "metadata": {},
     "output_type": "execute_result"
    }
   ],
   "source": [
    "App_metadata_info.columns=col_level1+'_'+col_level2\n",
    "App_metadata_info.head(10)"
   ]
  },
  {
   "cell_type": "code",
   "execution_count": 132,
   "metadata": {},
   "outputs": [],
   "source": [
    "App_metadata_info.reset_index(inplace=True)"
   ]
  },
  {
   "cell_type": "code",
   "execution_count": 136,
   "metadata": {},
   "outputs": [],
   "source": [
    "App_metadata_info['CategoryPrice']=App_metadata_info['Category']+'_'+ App_metadata_info['Price']\n",
    "App_metadata_info.set_index('CategoryPrice',inplace=True)"
   ]
  },
  {
   "cell_type": "code",
   "execution_count": 137,
   "metadata": {},
   "outputs": [
    {
     "data": {
      "text/html": [
       "<div>\n",
       "<style>\n",
       "    .dataframe thead tr:only-child th {\n",
       "        text-align: right;\n",
       "    }\n",
       "\n",
       "    .dataframe thead th {\n",
       "        text-align: left;\n",
       "    }\n",
       "\n",
       "    .dataframe tbody tr th {\n",
       "        vertical-align: top;\n",
       "    }\n",
       "</style>\n",
       "<table border=\"1\" class=\"dataframe\">\n",
       "  <thead>\n",
       "    <tr style=\"text-align: right;\">\n",
       "      <th></th>\n",
       "      <th>Category</th>\n",
       "      <th>Price</th>\n",
       "      <th>Downloads_mean</th>\n",
       "      <th>Downloads_max</th>\n",
       "      <th>Rating_mean</th>\n",
       "      <th>Rating_max</th>\n",
       "    </tr>\n",
       "    <tr>\n",
       "      <th>CategoryPrice</th>\n",
       "      <th></th>\n",
       "      <th></th>\n",
       "      <th></th>\n",
       "      <th></th>\n",
       "      <th></th>\n",
       "      <th></th>\n",
       "    </tr>\n",
       "  </thead>\n",
       "  <tbody>\n",
       "    <tr>\n",
       "      <th>Books &amp; Reference_Free</th>\n",
       "      <td>Books &amp; Reference</td>\n",
       "      <td>Free</td>\n",
       "      <td>33666.666667</td>\n",
       "      <td>50000</td>\n",
       "      <td>3.800000</td>\n",
       "      <td>4.3</td>\n",
       "    </tr>\n",
       "    <tr>\n",
       "      <th>Books &amp; Reference_Paid</th>\n",
       "      <td>Books &amp; Reference</td>\n",
       "      <td>Paid</td>\n",
       "      <td>10.000000</td>\n",
       "      <td>10</td>\n",
       "      <td>3.500000</td>\n",
       "      <td>3.5</td>\n",
       "    </tr>\n",
       "    <tr>\n",
       "      <th>Business_Free</th>\n",
       "      <td>Business</td>\n",
       "      <td>Free</td>\n",
       "      <td>5250.000000</td>\n",
       "      <td>10000</td>\n",
       "      <td>3.650000</td>\n",
       "      <td>4.3</td>\n",
       "    </tr>\n",
       "    <tr>\n",
       "      <th>Casual_Free</th>\n",
       "      <td>Casual</td>\n",
       "      <td>Free</td>\n",
       "      <td>18600.000000</td>\n",
       "      <td>50000</td>\n",
       "      <td>3.833333</td>\n",
       "      <td>5.0</td>\n",
       "    </tr>\n",
       "    <tr>\n",
       "      <th>Casual_Paid</th>\n",
       "      <td>Casual</td>\n",
       "      <td>Paid</td>\n",
       "      <td>6.100000</td>\n",
       "      <td>50</td>\n",
       "      <td>1.000000</td>\n",
       "      <td>1.0</td>\n",
       "    </tr>\n",
       "  </tbody>\n",
       "</table>\n",
       "</div>"
      ],
      "text/plain": [
       "                                 Category Price  Downloads_mean  \\\n",
       "CategoryPrice                                                     \n",
       "Books & Reference_Free  Books & Reference  Free    33666.666667   \n",
       "Books & Reference_Paid  Books & Reference  Paid       10.000000   \n",
       "Business_Free                    Business  Free     5250.000000   \n",
       "Casual_Free                        Casual  Free    18600.000000   \n",
       "Casual_Paid                        Casual  Paid        6.100000   \n",
       "\n",
       "                        Downloads_max  Rating_mean  Rating_max  \n",
       "CategoryPrice                                                   \n",
       "Books & Reference_Free          50000     3.800000         4.3  \n",
       "Books & Reference_Paid             10     3.500000         3.5  \n",
       "Business_Free                   10000     3.650000         4.3  \n",
       "Casual_Free                     50000     3.833333         5.0  \n",
       "Casual_Paid                        50     1.000000         1.0  "
      ]
     },
     "execution_count": 137,
     "metadata": {},
     "output_type": "execute_result"
    }
   ],
   "source": [
    "App_metadata_info.head()"
   ]
  },
  {
   "cell_type": "raw",
   "metadata": {},
   "source": [
    "up till now, we are using the agg function that pandas provide for us, some times, we may need to write our own agg functions.\n",
    "for example,lets explore more about rating columns"
   ]
  },
  {
   "cell_type": "code",
   "execution_count": 139,
   "metadata": {},
   "outputs": [
    {
     "data": {
      "text/plain": [
       "44"
      ]
     },
     "execution_count": 139,
     "metadata": {},
     "output_type": "execute_result"
    }
   ],
   "source": [
    "App_data.Rating.isnull().sum()#44 ratings is null"
   ]
  },
  {
   "cell_type": "code",
   "execution_count": 140,
   "metadata": {
    "collapsed": true
   },
   "outputs": [],
   "source": [
    "App_data['Rating'].fillna(App_data['Rating'].mean(),inplace=True)"
   ]
  },
  {
   "cell_type": "code",
   "execution_count": 142,
   "metadata": {
    "collapsed": true
   },
   "outputs": [],
   "source": [
    "category_rating_info=App_data.groupby('Category')['Rating'].agg(['mean','std'])"
   ]
  },
  {
   "cell_type": "code",
   "execution_count": 146,
   "metadata": {},
   "outputs": [
    {
     "data": {
      "text/html": [
       "<div>\n",
       "<style>\n",
       "    .dataframe thead tr:only-child th {\n",
       "        text-align: right;\n",
       "    }\n",
       "\n",
       "    .dataframe thead th {\n",
       "        text-align: left;\n",
       "    }\n",
       "\n",
       "    .dataframe tbody tr th {\n",
       "        vertical-align: top;\n",
       "    }\n",
       "</style>\n",
       "<table border=\"1\" class=\"dataframe\">\n",
       "  <thead>\n",
       "    <tr style=\"text-align: right;\">\n",
       "      <th></th>\n",
       "      <th>mean</th>\n",
       "      <th>std</th>\n",
       "    </tr>\n",
       "    <tr>\n",
       "      <th>Category</th>\n",
       "      <th></th>\n",
       "      <th></th>\n",
       "    </tr>\n",
       "  </thead>\n",
       "  <tbody>\n",
       "    <tr>\n",
       "      <th>Medical</th>\n",
       "      <td>3.066667</td>\n",
       "      <td>1.789786</td>\n",
       "    </tr>\n",
       "    <tr>\n",
       "      <th>Finance</th>\n",
       "      <td>3.760000</td>\n",
       "      <td>1.186592</td>\n",
       "    </tr>\n",
       "    <tr>\n",
       "      <th>Lifestyle</th>\n",
       "      <td>3.887912</td>\n",
       "      <td>0.929983</td>\n",
       "    </tr>\n",
       "    <tr>\n",
       "      <th>Casual</th>\n",
       "      <td>3.702404</td>\n",
       "      <td>0.872828</td>\n",
       "    </tr>\n",
       "    <tr>\n",
       "      <th>Tools</th>\n",
       "      <td>3.859341</td>\n",
       "      <td>0.813511</td>\n",
       "    </tr>\n",
       "    <tr>\n",
       "      <th>Maps &amp; Navigation</th>\n",
       "      <td>3.875000</td>\n",
       "      <td>0.754431</td>\n",
       "    </tr>\n",
       "    <tr>\n",
       "      <th>Photography</th>\n",
       "      <td>3.863736</td>\n",
       "      <td>0.704924</td>\n",
       "    </tr>\n",
       "    <tr>\n",
       "      <th>Business</th>\n",
       "      <td>3.650000</td>\n",
       "      <td>0.695222</td>\n",
       "    </tr>\n",
       "    <tr>\n",
       "      <th>Entertainment</th>\n",
       "      <td>3.570000</td>\n",
       "      <td>0.649872</td>\n",
       "    </tr>\n",
       "    <tr>\n",
       "      <th>Personalization</th>\n",
       "      <td>4.243077</td>\n",
       "      <td>0.647818</td>\n",
       "    </tr>\n",
       "    <tr>\n",
       "      <th>Education</th>\n",
       "      <td>4.037500</td>\n",
       "      <td>0.641288</td>\n",
       "    </tr>\n",
       "    <tr>\n",
       "      <th>Game</th>\n",
       "      <td>3.715954</td>\n",
       "      <td>0.613499</td>\n",
       "    </tr>\n",
       "    <tr>\n",
       "      <th>Books &amp; Reference</th>\n",
       "      <td>3.725000</td>\n",
       "      <td>0.590903</td>\n",
       "    </tr>\n",
       "    <tr>\n",
       "      <th>Health &amp; Fitness</th>\n",
       "      <td>4.133333</td>\n",
       "      <td>0.535413</td>\n",
       "    </tr>\n",
       "    <tr>\n",
       "      <th>Travel &amp; Local</th>\n",
       "      <td>3.728846</td>\n",
       "      <td>0.514154</td>\n",
       "    </tr>\n",
       "    <tr>\n",
       "      <th>Music &amp; Audio</th>\n",
       "      <td>3.700000</td>\n",
       "      <td>0.424264</td>\n",
       "    </tr>\n",
       "    <tr>\n",
       "      <th>Productivity</th>\n",
       "      <td>4.000000</td>\n",
       "      <td>0.295804</td>\n",
       "    </tr>\n",
       "    <tr>\n",
       "      <th>Shopping</th>\n",
       "      <td>3.957692</td>\n",
       "      <td>0.059832</td>\n",
       "    </tr>\n",
       "    <tr>\n",
       "      <th>Comics</th>\n",
       "      <td>4.800000</td>\n",
       "      <td>NaN</td>\n",
       "    </tr>\n",
       "    <tr>\n",
       "      <th>Communication</th>\n",
       "      <td>3.500000</td>\n",
       "      <td>NaN</td>\n",
       "    </tr>\n",
       "    <tr>\n",
       "      <th>Libraries &amp; Demo</th>\n",
       "      <td>4.200000</td>\n",
       "      <td>NaN</td>\n",
       "    </tr>\n",
       "    <tr>\n",
       "      <th>News &amp; Magazines</th>\n",
       "      <td>3.400000</td>\n",
       "      <td>NaN</td>\n",
       "    </tr>\n",
       "    <tr>\n",
       "      <th>Social</th>\n",
       "      <td>4.400000</td>\n",
       "      <td>NaN</td>\n",
       "    </tr>\n",
       "    <tr>\n",
       "      <th>Video Players &amp; Editors</th>\n",
       "      <td>2.500000</td>\n",
       "      <td>NaN</td>\n",
       "    </tr>\n",
       "  </tbody>\n",
       "</table>\n",
       "</div>"
      ],
      "text/plain": [
       "                             mean       std\n",
       "Category                                   \n",
       "Medical                  3.066667  1.789786\n",
       "Finance                  3.760000  1.186592\n",
       "Lifestyle                3.887912  0.929983\n",
       "Casual                   3.702404  0.872828\n",
       "Tools                    3.859341  0.813511\n",
       "Maps & Navigation        3.875000  0.754431\n",
       "Photography              3.863736  0.704924\n",
       "Business                 3.650000  0.695222\n",
       "Entertainment            3.570000  0.649872\n",
       "Personalization          4.243077  0.647818\n",
       "Education                4.037500  0.641288\n",
       "Game                     3.715954  0.613499\n",
       "Books & Reference        3.725000  0.590903\n",
       "Health & Fitness         4.133333  0.535413\n",
       "Travel & Local           3.728846  0.514154\n",
       "Music & Audio            3.700000  0.424264\n",
       "Productivity             4.000000  0.295804\n",
       "Shopping                 3.957692  0.059832\n",
       "Comics                   4.800000       NaN\n",
       "Communication            3.500000       NaN\n",
       "Libraries & Demo         4.200000       NaN\n",
       "News & Magazines         3.400000       NaN\n",
       "Social                   4.400000       NaN\n",
       "Video Players & Editors  2.500000       NaN"
      ]
     },
     "execution_count": 146,
     "metadata": {},
     "output_type": "execute_result"
    }
   ],
   "source": [
    "category_rating_info.sort_values(by='std',ascending=False)\n",
    "# pandas defaults to using the sample standard deviation, groups with only member is not able to use the std(),so there are nans in the result"
   ]
  },
  {
   "cell_type": "code",
   "execution_count": 147,
   "metadata": {
    "collapsed": true
   },
   "outputs": [],
   "source": [
    "def max_deviation(s):\n",
    "    #note s is a series\n",
    "    std_score = (s-s.mean())/s.std()\n",
    "    return std_score.abs().max()\n",
    " "
   ]
  },
  {
   "cell_type": "code",
   "execution_count": 148,
   "metadata": {},
   "outputs": [
    {
     "data": {
      "text/plain": [
       "Category\n",
       "Books & Reference          1.226935\n",
       "Business                   0.934953\n",
       "Casual                     3.096148\n",
       "Comics                          NaN\n",
       "Communication                   NaN\n",
       "Education                  1.500886\n",
       "Entertainment              2.200434\n",
       "Finance                    1.314690\n",
       "Game                       2.092987\n",
       "Health & Fitness           1.618689\n",
       "Libraries & Demo                NaN\n",
       "Lifestyle                  1.814992\n",
       "Maps & Navigation          1.491189\n",
       "Medical                    1.154701\n",
       "Music & Audio              0.707107\n",
       "News & Magazines                NaN\n",
       "Personalization            5.006154\n",
       "Photography                1.611896\n",
       "Productivity               2.366432\n",
       "Shopping                   0.707107\n",
       "Social                          NaN\n",
       "Tools                      3.514816\n",
       "Travel & Local             1.417565\n",
       "Video Players & Editors         NaN\n",
       "Name: Rating, dtype: float64"
      ]
     },
     "execution_count": 148,
     "metadata": {},
     "output_type": "execute_result"
    }
   ],
   "source": [
    "App_data.groupby('Category')['Rating'].agg(max_deviation)\n",
    "#the Rating column as a series is passed to the max_deviation func"
   ]
  },
  {
   "cell_type": "raw",
   "metadata": {},
   "source": [
    "now lets make things more interesting:\n",
    "suppose now we want to find the percentage of apps by category and price which have downloads between a certain range   "
   ]
  },
  {
   "cell_type": "code",
   "execution_count": 155,
   "metadata": {
    "collapsed": true
   },
   "outputs": [],
   "source": [
    "def pct_between(s,low,high):\n",
    "    #series s and two other parameters are being passed to this func\n",
    "    return s.between(low,high).mean()"
   ]
  },
  {
   "cell_type": "code",
   "execution_count": 156,
   "metadata": {},
   "outputs": [
    {
     "data": {
      "text/plain": [
       "Category                 Price\n",
       "Books & Reference        Free     0.666667\n",
       "                         Paid     0.000000\n",
       "Business                 Free     0.250000\n",
       "Casual                   Free     0.500000\n",
       "                         Paid     0.000000\n",
       "Comics                   Free     0.000000\n",
       "Communication            Paid     0.000000\n",
       "Education                Free     0.375000\n",
       "Entertainment            Free     0.500000\n",
       "Finance                  Free     0.500000\n",
       "                         Paid     0.000000\n",
       "Game                     Free     0.333333\n",
       "                         Paid     0.000000\n",
       "Health & Fitness         Free     0.500000\n",
       "                         Paid     0.000000\n",
       "Libraries & Demo         Free     0.000000\n",
       "Lifestyle                Free     0.166667\n",
       "                         Paid     0.000000\n",
       "Maps & Navigation        Free     0.500000\n",
       "Medical                  Free     0.000000\n",
       "                         Paid     0.000000\n",
       "Music & Audio            Free     1.000000\n",
       "News & Magazines         Free     1.000000\n",
       "Personalization          Free     1.000000\n",
       "                         Paid     0.000000\n",
       "Photography              Paid     0.000000\n",
       "Productivity             Free     0.285714\n",
       "                         Paid     0.500000\n",
       "Shopping                 Free     0.000000\n",
       "Social                   Free     1.000000\n",
       "Tools                    Free     0.473684\n",
       "                         Paid     0.000000\n",
       "Travel & Local           Free     0.000000\n",
       "Video Players & Editors  Free     0.000000\n",
       "Name: Downloads, dtype: float64"
      ]
     },
     "execution_count": 156,
     "metadata": {},
     "output_type": "execute_result"
    }
   ],
   "source": [
    "App_data.groupby(['Category','Price'])['Downloads'].agg(pct_between,10000,1000000)"
   ]
  },
  {
   "cell_type": "code",
   "execution_count": null,
   "metadata": {
    "collapsed": true
   },
   "outputs": [],
   "source": []
  }
 ],
 "metadata": {
  "kernelspec": {
   "display_name": "Python 3",
   "language": "python",
   "name": "python3"
  },
  "language_info": {
   "codemirror_mode": {
    "name": "ipython",
    "version": 3
   },
   "file_extension": ".py",
   "mimetype": "text/x-python",
   "name": "python",
   "nbconvert_exporter": "python",
   "pygments_lexer": "ipython3",
   "version": "3.6.2"
  }
 },
 "nbformat": 4,
 "nbformat_minor": 2
}
